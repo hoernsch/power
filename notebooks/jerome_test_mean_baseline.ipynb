{
 "cells": [
  {
   "cell_type": "code",
   "execution_count": 1,
   "metadata": {},
   "outputs": [
    {
     "name": "stderr",
     "output_type": "stream",
     "text": [
      "2024-03-13 17:16:30.692738: I tensorflow/tsl/cuda/cudart_stub.cc:28] Could not find cuda drivers on your machine, GPU will not be used.\n",
      "2024-03-13 17:16:31.756607: I tensorflow/tsl/cuda/cudart_stub.cc:28] Could not find cuda drivers on your machine, GPU will not be used.\n",
      "2024-03-13 17:16:31.773463: I tensorflow/core/platform/cpu_feature_guard.cc:182] This TensorFlow binary is optimized to use available CPU instructions in performance-critical operations.\n",
      "To enable the following instructions: AVX2 FMA, in other operations, rebuild TensorFlow with the appropriate compiler flags.\n",
      "2024-03-13 17:16:35.321754: W tensorflow/compiler/tf2tensorrt/utils/py_utils.cc:38] TF-TRT Warning: Could not find TensorRT\n"
     ]
    }
   ],
   "source": [
    "import pandas as pd\n",
    "from fastapi import FastAPI\n",
    "from fastapi.middleware.cors import CORSMiddleware\n",
    "from power.ml_ops.data import get_data_with_cache, get_stats_table, postprocess\n",
    "from power.ml_ops.registry import load_model\n",
    "from power.interface.main import pred #, postprocess\n",
    "\n",
    "from pathlib import Path\n",
    "from power.params import *\n",
    "from power.utils import compress\n",
    "\n",
    "import datetime\n",
    "import tensorflow as tf"
   ]
  },
  {
   "cell_type": "code",
   "execution_count": 2,
   "metadata": {},
   "outputs": [
    {
     "name": "stdout",
     "output_type": "stream",
     "text": [
      "\u001b[34m\n",
      "Load data from local CSV...\u001b[0m\n",
      "✅ Data loaded, with shape (376944, 3)\n"
     ]
    }
   ],
   "source": [
    "data_processed_cache_path = Path(LOCAL_DATA_PATH).joinpath(\"processed\", f\"processed_pv.csv\")\n",
    "query = f\"\"\"\n",
    "    SELECT *\n",
    "    FROM {GCP_PROJECT}.{BQ_DATASET}.processed_pv\n",
    "    ORDER BY utc_time\n",
    "\"\"\"\n",
    "\n",
    "data_processed = get_data_with_cache(\n",
    "    gcp_project=GCP_PROJECT,\n",
    "    query=query,\n",
    "    cache_path=data_processed_cache_path,\n",
    "    data_has_header=True\n",
    ")\n",
    "data_processed.utc_time = pd.to_datetime(data_processed.utc_time,utc=True)"
   ]
  },
  {
   "cell_type": "code",
   "execution_count": 3,
   "metadata": {},
   "outputs": [
    {
     "data": {
      "text/plain": [
       "(376944, 3)"
      ]
     },
     "execution_count": 3,
     "metadata": {},
     "output_type": "execute_result"
    }
   ],
   "source": [
    "data_processed.shape"
   ]
  },
  {
   "cell_type": "code",
   "execution_count": 4,
   "metadata": {},
   "outputs": [
    {
     "data": {
      "text/plain": [
       "<tf.Tensor: shape=(1, 24), dtype=float64, numpy=\n",
       "array([[0.        , 0.        , 0.        , 0.00109302, 0.03118605,\n",
       "        0.08644186, 0.20974419, 0.33897674, 0.44625581, 0.51509302,\n",
       "        0.55332558, 0.53672093, 0.48744186, 0.42188372, 0.3274186 ,\n",
       "        0.22039535, 0.1114186 , 0.03918605, 0.00402326, 0.        ,\n",
       "        0.        , 0.        , 0.        , 0.        ]])>"
      ]
     },
     "execution_count": 4,
     "metadata": {},
     "output_type": "execute_result"
    }
   ],
   "source": [
    "def mean_historical_power(X: pd.DataFrame, input_date: str):\n",
    "        \"\"\"\n",
    "        takes a date as a string input\n",
    "        returns the mean power produced on that day.\n",
    "        Mean over the 40 years of training\n",
    "        should remove 24 data points\n",
    "        \"\"\"\n",
    "        input_date_dt = datetime.datetime.strptime(input_date, '%Y-%m-%d') + datetime.timedelta(days=1)\n",
    "        #filter by month\n",
    "        df_month = X[X.utc_time.dt.month == input_date_dt.month]\n",
    "        #filter by day\n",
    "        df_day = df_month[df_month.utc_time.dt.day == input_date_dt.day].reset_index()\n",
    "        array = df_day['electricity'].groupby(df_day.utc_time.dt.hour).mean().to_numpy()\n",
    "        tensor = tf.convert_to_tensor(array)\n",
    "        tensor = tf.expand_dims(tensor, axis=0)\n",
    "        return tensor\n",
    "\n",
    "mean_historical_power(data_processed, '2021-07-28')"
   ]
  },
  {
   "cell_type": "code",
   "execution_count": 12,
   "metadata": {},
   "outputs": [],
   "source": [
    "def get_stats_table(\n",
    "  years_df: pd.DataFrame,\n",
    "  capacity= False,\n",
    "  min_date = '2020-01-01 00:00:00',\n",
    "  max_date = '2022-12-29 23:00:00') -> pd.DataFrame:\n",
    "  \"\"\"\n",
    "  Creates a table with statistics for electricity and optional capacity factor\n",
    "  for every hour of the year (8784).\n",
    "  Input:\n",
    "    - Cleaned df that contains at least electricity\n",
    "    as column. The df should span several years, because every\n",
    "    year is one sample for the statictics.\n",
    "    - Optional flag for capacity factor\n",
    "  Output:\n",
    "    - df with 8784 hours of the years (including leap years) as rows. The df has\n",
    "    multilevel index because statistics are returned for electricity and\n",
    "    capacity factor.\n",
    "  \"\"\"\n",
    "  years_df =  years_df[years_df['utc_time'] < min_date]\n",
    "  print(years_df.shape)\n",
    "  years_df['hour_of_year'] = years_df.utc_time.\\\n",
    "                           apply(lambda x: x.strftime(\"%m%d%H\"))\n",
    "  if capacity:\n",
    "    stats_df = years_df[['hour_of_year', 'cap_fac']]\\\n",
    "                    .groupby(['hour_of_year']).agg(['mean','median','std',\n",
    "                                                    'skew','min','max','count'])\n",
    "  else:\n",
    "    stats_df = years_df[['hour_of_year', 'electricity']]\\\n",
    "                    .groupby(['hour_of_year']).agg(['mean','median','std',\n",
    "                                                    'skew','min','max','count'])\n",
    "  return stats_df"
   ]
  },
  {
   "cell_type": "code",
   "execution_count": 13,
   "metadata": {},
   "outputs": [
    {
     "name": "stdout",
     "output_type": "stream",
     "text": [
      "(350640, 4)\n"
     ]
    },
    {
     "name": "stderr",
     "output_type": "stream",
     "text": [
      "/tmp/ipykernel_56726/1633801773.py:21: SettingWithCopyWarning: \n",
      "A value is trying to be set on a copy of a slice from a DataFrame.\n",
      "Try using .loc[row_indexer,col_indexer] = value instead\n",
      "\n",
      "See the caveats in the documentation: https://pandas.pydata.org/pandas-docs/stable/user_guide/indexing.html#returning-a-view-versus-a-copy\n",
      "  years_df['hour_of_year'] = years_df.utc_time.\\\n"
     ]
    },
    {
     "data": {
      "text/html": [
       "<div>\n",
       "<style scoped>\n",
       "    .dataframe tbody tr th:only-of-type {\n",
       "        vertical-align: middle;\n",
       "    }\n",
       "\n",
       "    .dataframe tbody tr th {\n",
       "        vertical-align: top;\n",
       "    }\n",
       "\n",
       "    .dataframe thead tr th {\n",
       "        text-align: left;\n",
       "    }\n",
       "\n",
       "    .dataframe thead tr:last-of-type th {\n",
       "        text-align: right;\n",
       "    }\n",
       "</style>\n",
       "<table border=\"1\" class=\"dataframe\">\n",
       "  <thead>\n",
       "    <tr>\n",
       "      <th></th>\n",
       "      <th colspan=\"7\" halign=\"left\">electricity</th>\n",
       "    </tr>\n",
       "    <tr>\n",
       "      <th></th>\n",
       "      <th>mean</th>\n",
       "      <th>median</th>\n",
       "      <th>std</th>\n",
       "      <th>skew</th>\n",
       "      <th>min</th>\n",
       "      <th>max</th>\n",
       "      <th>count</th>\n",
       "    </tr>\n",
       "    <tr>\n",
       "      <th>hour_of_year</th>\n",
       "      <th></th>\n",
       "      <th></th>\n",
       "      <th></th>\n",
       "      <th></th>\n",
       "      <th></th>\n",
       "      <th></th>\n",
       "      <th></th>\n",
       "    </tr>\n",
       "  </thead>\n",
       "  <tbody>\n",
       "    <tr>\n",
       "      <th>010100</th>\n",
       "      <td>0.0</td>\n",
       "      <td>0.0</td>\n",
       "      <td>0.0</td>\n",
       "      <td>0.0</td>\n",
       "      <td>0.0</td>\n",
       "      <td>0.0</td>\n",
       "      <td>40</td>\n",
       "    </tr>\n",
       "    <tr>\n",
       "      <th>010101</th>\n",
       "      <td>0.0</td>\n",
       "      <td>0.0</td>\n",
       "      <td>0.0</td>\n",
       "      <td>0.0</td>\n",
       "      <td>0.0</td>\n",
       "      <td>0.0</td>\n",
       "      <td>40</td>\n",
       "    </tr>\n",
       "    <tr>\n",
       "      <th>010102</th>\n",
       "      <td>0.0</td>\n",
       "      <td>0.0</td>\n",
       "      <td>0.0</td>\n",
       "      <td>0.0</td>\n",
       "      <td>0.0</td>\n",
       "      <td>0.0</td>\n",
       "      <td>40</td>\n",
       "    </tr>\n",
       "    <tr>\n",
       "      <th>010103</th>\n",
       "      <td>0.0</td>\n",
       "      <td>0.0</td>\n",
       "      <td>0.0</td>\n",
       "      <td>0.0</td>\n",
       "      <td>0.0</td>\n",
       "      <td>0.0</td>\n",
       "      <td>40</td>\n",
       "    </tr>\n",
       "    <tr>\n",
       "      <th>010104</th>\n",
       "      <td>0.0</td>\n",
       "      <td>0.0</td>\n",
       "      <td>0.0</td>\n",
       "      <td>0.0</td>\n",
       "      <td>0.0</td>\n",
       "      <td>0.0</td>\n",
       "      <td>40</td>\n",
       "    </tr>\n",
       "    <tr>\n",
       "      <th>...</th>\n",
       "      <td>...</td>\n",
       "      <td>...</td>\n",
       "      <td>...</td>\n",
       "      <td>...</td>\n",
       "      <td>...</td>\n",
       "      <td>...</td>\n",
       "      <td>...</td>\n",
       "    </tr>\n",
       "    <tr>\n",
       "      <th>123119</th>\n",
       "      <td>0.0</td>\n",
       "      <td>0.0</td>\n",
       "      <td>0.0</td>\n",
       "      <td>0.0</td>\n",
       "      <td>0.0</td>\n",
       "      <td>0.0</td>\n",
       "      <td>40</td>\n",
       "    </tr>\n",
       "    <tr>\n",
       "      <th>123120</th>\n",
       "      <td>0.0</td>\n",
       "      <td>0.0</td>\n",
       "      <td>0.0</td>\n",
       "      <td>0.0</td>\n",
       "      <td>0.0</td>\n",
       "      <td>0.0</td>\n",
       "      <td>40</td>\n",
       "    </tr>\n",
       "    <tr>\n",
       "      <th>123121</th>\n",
       "      <td>0.0</td>\n",
       "      <td>0.0</td>\n",
       "      <td>0.0</td>\n",
       "      <td>0.0</td>\n",
       "      <td>0.0</td>\n",
       "      <td>0.0</td>\n",
       "      <td>40</td>\n",
       "    </tr>\n",
       "    <tr>\n",
       "      <th>123122</th>\n",
       "      <td>0.0</td>\n",
       "      <td>0.0</td>\n",
       "      <td>0.0</td>\n",
       "      <td>0.0</td>\n",
       "      <td>0.0</td>\n",
       "      <td>0.0</td>\n",
       "      <td>40</td>\n",
       "    </tr>\n",
       "    <tr>\n",
       "      <th>123123</th>\n",
       "      <td>0.0</td>\n",
       "      <td>0.0</td>\n",
       "      <td>0.0</td>\n",
       "      <td>0.0</td>\n",
       "      <td>0.0</td>\n",
       "      <td>0.0</td>\n",
       "      <td>40</td>\n",
       "    </tr>\n",
       "  </tbody>\n",
       "</table>\n",
       "<p>8784 rows × 7 columns</p>\n",
       "</div>"
      ],
      "text/plain": [
       "             electricity                                 \n",
       "                    mean median  std skew  min  max count\n",
       "hour_of_year                                             \n",
       "010100               0.0    0.0  0.0  0.0  0.0  0.0    40\n",
       "010101               0.0    0.0  0.0  0.0  0.0  0.0    40\n",
       "010102               0.0    0.0  0.0  0.0  0.0  0.0    40\n",
       "010103               0.0    0.0  0.0  0.0  0.0  0.0    40\n",
       "010104               0.0    0.0  0.0  0.0  0.0  0.0    40\n",
       "...                  ...    ...  ...  ...  ...  ...   ...\n",
       "123119               0.0    0.0  0.0  0.0  0.0  0.0    40\n",
       "123120               0.0    0.0  0.0  0.0  0.0  0.0    40\n",
       "123121               0.0    0.0  0.0  0.0  0.0  0.0    40\n",
       "123122               0.0    0.0  0.0  0.0  0.0  0.0    40\n",
       "123123               0.0    0.0  0.0  0.0  0.0  0.0    40\n",
       "\n",
       "[8784 rows x 7 columns]"
      ]
     },
     "execution_count": 13,
     "metadata": {},
     "output_type": "execute_result"
    }
   ],
   "source": [
    "get_stats_table(data_processed)"
   ]
  },
  {
   "cell_type": "code",
   "execution_count": null,
   "metadata": {},
   "outputs": [],
   "source": []
  }
 ],
 "metadata": {
  "kernelspec": {
   "display_name": "power",
   "language": "python",
   "name": "python3"
  },
  "language_info": {
   "codemirror_mode": {
    "name": "ipython",
    "version": 3
   },
   "file_extension": ".py",
   "mimetype": "text/x-python",
   "name": "python",
   "nbconvert_exporter": "python",
   "pygments_lexer": "ipython3",
   "version": "3.10.6"
  }
 },
 "nbformat": 4,
 "nbformat_minor": 2
}
