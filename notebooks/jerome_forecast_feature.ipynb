{
 "cells": [
  {
   "cell_type": "code",
   "execution_count": 1,
   "metadata": {},
   "outputs": [],
   "source": [
    "import numpy as np\n",
    "import pandas as pd\n",
    "import datetime"
   ]
  },
  {
   "cell_type": "code",
   "execution_count": 2,
   "metadata": {},
   "outputs": [],
   "source": [
    "def compress(df, **kwargs):\n",
    "    \"\"\"\n",
    "    Reduces size of dataframe by downcasting numerical columns\n",
    "    \"\"\"\n",
    "    input_size = df.memory_usage(index=True).sum()/ 1024\n",
    "    print(\"new dataframe size: \", round(input_size,2), 'kB')\n",
    "\n",
    "    in_size = df.memory_usage(index=True).sum()\n",
    "    for type in [\"float\", \"integer\"]:\n",
    "        l_cols = list(df.select_dtypes(include=type))\n",
    "        for col in l_cols:\n",
    "            df[col] = pd.to_numeric(df[col], downcast=type)\n",
    "    out_size = df.memory_usage(index=True).sum()\n",
    "    ratio = (1 - round(out_size / in_size, 2)) * 100\n",
    "\n",
    "    print(\"optimized size by {} %\".format(round(ratio,2)))\n",
    "    print(\"new dataframe size: \", round(out_size / 1024,2), \" kB\")\n",
    "\n",
    "    return df"
   ]
  },
  {
   "cell_type": "code",
   "execution_count": 37,
   "metadata": {},
   "outputs": [],
   "source": [
    "filepath = r\"../raw_data/history_forecast_bulk_20171007_20240312.csv\"\n",
    "\n",
    "df = pd.read_csv(filepath)"
   ]
  },
  {
   "cell_type": "code",
   "execution_count": 38,
   "metadata": {},
   "outputs": [
    {
     "name": "stdout",
     "output_type": "stream",
     "text": [
      "new dataframe size:  617298.69 kB\n",
      "optimized size by 46.0 %\n",
      "new dataframe size:  334370.18  kB\n"
     ]
    }
   ],
   "source": [
    "df = compress(df)"
   ]
  },
  {
   "cell_type": "code",
   "execution_count": 39,
   "metadata": {},
   "outputs": [],
   "source": [
    "df['forecast dt iso'] = df['forecast dt iso'].str.replace('+0000 UTC', '')\n",
    "df['slice dt iso'] = df['slice dt iso'].str.replace('+0000 UTC', '')"
   ]
  },
  {
   "cell_type": "code",
   "execution_count": 44,
   "metadata": {},
   "outputs": [],
   "source": [
    "df  = df[df['forecast dt iso'].str.contains('12:00:00')]"
   ]
  },
  {
   "cell_type": "code",
   "execution_count": 49,
   "metadata": {},
   "outputs": [
    {
     "data": {
      "text/plain": [
       "Index(['forecast dt unixtime', 'forecast dt iso', 'slice dt unixtime',\n",
       "       'slice dt iso', 'lat', 'lon', 'temperature', 'dew_point', 'pressure',\n",
       "       'ground_pressure', 'humidity', 'clouds', 'wind_speed', 'wind_deg',\n",
       "       'rain', 'snow', 'ice', 'fr_rain', 'convective', 'snow_depth',\n",
       "       'accumulated', 'hours', 'rate', 'probability'],\n",
       "      dtype='object')"
      ]
     },
     "execution_count": 49,
     "metadata": {},
     "output_type": "execute_result"
    }
   ],
   "source": [
    "df.columns"
   ]
  },
  {
   "cell_type": "code",
   "execution_count": 57,
   "metadata": {},
   "outputs": [
    {
     "data": {
      "text/plain": [
       "array([1507377600, 1507464000, 1507550400, ..., 1710072000, 1710158400,\n",
       "       1710244800], dtype=int32)"
      ]
     },
     "execution_count": 57,
     "metadata": {},
     "output_type": "execute_result"
    }
   ],
   "source": [
    "df['forecast dt unixtime'].unique()"
   ]
  },
  {
   "cell_type": "code",
   "execution_count": 35,
   "metadata": {},
   "outputs": [],
   "source": [
    "df['forecast dt iso'] = df['forecast dt iso'][:19]"
   ]
  },
  {
   "cell_type": "code",
   "execution_count": 36,
   "metadata": {},
   "outputs": [
    {
     "data": {
      "text/plain": [
       "0          2017-10-07 00:00:00 +0000 UTC\n",
       "1          2017-10-07 00:00:00 +0000 UTC\n",
       "2          2017-10-07 00:00:00 +0000 UTC\n",
       "3          2017-10-07 00:00:00 +0000 UTC\n",
       "4          2017-10-07 00:00:00 +0000 UTC\n",
       "                       ...              \n",
       "3292254                              NaN\n",
       "3292255                              NaN\n",
       "3292256                              NaN\n",
       "3292257                              NaN\n",
       "3292258                              NaN\n",
       "Name: forecast dt iso, Length: 3292259, dtype: object"
      ]
     },
     "execution_count": 36,
     "metadata": {},
     "output_type": "execute_result"
    }
   ],
   "source": [
    "df['forecast dt iso']"
   ]
  },
  {
   "cell_type": "code",
   "execution_count": 9,
   "metadata": {},
   "outputs": [
    {
     "data": {
      "text/plain": [
       "datetime.datetime(2017, 10, 7, 0, 0, tzinfo=datetime.timezone(datetime.timedelta(0), 'UTC'))"
      ]
     },
     "execution_count": 9,
     "metadata": {},
     "output_type": "execute_result"
    }
   ],
   "source": [
    "datetime.datetime.strptime(df['forecast dt iso'][0], \"%Y-%m-%d %H:%M:%S %z %Z\")"
   ]
  },
  {
   "cell_type": "code",
   "execution_count": null,
   "metadata": {},
   "outputs": [],
   "source": [
    "df['forecast dt iso'] = df['forecast dt iso'].apply(lambda row: datetime.datetime.strptime(row, \"%Y-%m-%d %H:%M:%S %z %Z\"))\n",
    "# df['slice dt iso'] = df['slice dt iso'].apply(lambda row: datetime.datetime.strptime(row, \"%Y-%m-%d %H:%M:%S %z %Z\"))"
   ]
  },
  {
   "cell_type": "markdown",
   "metadata": {},
   "source": [
    "# Data exploration "
   ]
  },
  {
   "cell_type": "code",
   "execution_count": 6,
   "metadata": {},
   "outputs": [
    {
     "name": "stdout",
     "output_type": "stream",
     "text": [
      "<class 'pandas.core.frame.DataFrame'>\n",
      "RangeIndex: 3292259 entries, 0 to 3292258\n",
      "Data columns (total 24 columns):\n",
      " #   Column                Dtype  \n",
      "---  ------                -----  \n",
      " 0   forecast dt unixtime  int64  \n",
      " 1   forecast dt iso       object \n",
      " 2   slice dt unixtime     int64  \n",
      " 3   slice dt iso          object \n",
      " 4   lat                   float64\n",
      " 5   lon                   float64\n",
      " 6   temperature           float64\n",
      " 7   dew_point             float64\n",
      " 8   pressure              float64\n",
      " 9   ground_pressure       float64\n",
      " 10  humidity              float64\n",
      " 11  clouds                float64\n",
      " 12  wind_speed            float64\n",
      " 13  wind_deg              float64\n",
      " 14  rain                  float64\n",
      " 15  snow                  float64\n",
      " 16  ice                   float64\n",
      " 17  fr_rain               float64\n",
      " 18  convective            float64\n",
      " 19  snow_depth            float64\n",
      " 20  accumulated           float64\n",
      " 21  hours                 float64\n",
      " 22  rate                  float64\n",
      " 23  probability           float64\n",
      "dtypes: float64(20), int64(2), object(2)\n",
      "memory usage: 602.8+ MB\n"
     ]
    }
   ],
   "source": [
    "df.info()"
   ]
  },
  {
   "cell_type": "code",
   "execution_count": 7,
   "metadata": {},
   "outputs": [
    {
     "name": "stdout",
     "output_type": "stream",
     "text": [
      "new dataframe size:  617298.69 kB\n",
      "optimized size by 46.0 %\n",
      "new dataframe size:  334370.18  kB\n"
     ]
    }
   ],
   "source": [
    "df = compress(df)"
   ]
  },
  {
   "cell_type": "code",
   "execution_count": 8,
   "metadata": {},
   "outputs": [
    {
     "name": "stdout",
     "output_type": "stream",
     "text": [
      "<class 'pandas.core.frame.DataFrame'>\n",
      "RangeIndex: 3292259 entries, 0 to 3292258\n",
      "Data columns (total 24 columns):\n",
      " #   Column                Dtype  \n",
      "---  ------                -----  \n",
      " 0   forecast dt unixtime  int32  \n",
      " 1   forecast dt iso       object \n",
      " 2   slice dt unixtime     int32  \n",
      " 3   slice dt iso          object \n",
      " 4   lat                   float32\n",
      " 5   lon                   float32\n",
      " 6   temperature           float32\n",
      " 7   dew_point             float32\n",
      " 8   pressure              float32\n",
      " 9   ground_pressure       float32\n",
      " 10  humidity              float32\n",
      " 11  clouds                float32\n",
      " 12  wind_speed            float32\n",
      " 13  wind_deg              float32\n",
      " 14  rain                  float32\n",
      " 15  snow                  float32\n",
      " 16  ice                   float32\n",
      " 17  fr_rain               float32\n",
      " 18  convective            float32\n",
      " 19  snow_depth            float32\n",
      " 20  accumulated           float32\n",
      " 21  hours                 float32\n",
      " 22  rate                  float32\n",
      " 23  probability           float32\n",
      "dtypes: float32(20), int32(2), object(2)\n",
      "memory usage: 326.5+ MB\n"
     ]
    }
   ],
   "source": [
    "df.info()"
   ]
  },
  {
   "cell_type": "code",
   "execution_count": 9,
   "metadata": {},
   "outputs": [
    {
     "data": {
      "text/html": [
       "<div>\n",
       "<style scoped>\n",
       "    .dataframe tbody tr th:only-of-type {\n",
       "        vertical-align: middle;\n",
       "    }\n",
       "\n",
       "    .dataframe tbody tr th {\n",
       "        vertical-align: top;\n",
       "    }\n",
       "\n",
       "    .dataframe thead th {\n",
       "        text-align: right;\n",
       "    }\n",
       "</style>\n",
       "<table border=\"1\" class=\"dataframe\">\n",
       "  <thead>\n",
       "    <tr style=\"text-align: right;\">\n",
       "      <th></th>\n",
       "      <th>forecast dt unixtime</th>\n",
       "      <th>slice dt unixtime</th>\n",
       "      <th>lat</th>\n",
       "      <th>lon</th>\n",
       "      <th>temperature</th>\n",
       "      <th>dew_point</th>\n",
       "      <th>pressure</th>\n",
       "      <th>ground_pressure</th>\n",
       "      <th>humidity</th>\n",
       "      <th>clouds</th>\n",
       "      <th>...</th>\n",
       "      <th>rain</th>\n",
       "      <th>snow</th>\n",
       "      <th>ice</th>\n",
       "      <th>fr_rain</th>\n",
       "      <th>convective</th>\n",
       "      <th>snow_depth</th>\n",
       "      <th>accumulated</th>\n",
       "      <th>hours</th>\n",
       "      <th>rate</th>\n",
       "      <th>probability</th>\n",
       "    </tr>\n",
       "  </thead>\n",
       "  <tbody>\n",
       "    <tr>\n",
       "      <th>count</th>\n",
       "      <td>3.292259e+06</td>\n",
       "      <td>3.292259e+06</td>\n",
       "      <td>3.292259e+06</td>\n",
       "      <td>3.292259e+06</td>\n",
       "      <td>3.292259e+06</td>\n",
       "      <td>3.292259e+06</td>\n",
       "      <td>3.292259e+06</td>\n",
       "      <td>3.292259e+06</td>\n",
       "      <td>3.292259e+06</td>\n",
       "      <td>3.292259e+06</td>\n",
       "      <td>...</td>\n",
       "      <td>3.292259e+06</td>\n",
       "      <td>3.292259e+06</td>\n",
       "      <td>3.292259e+06</td>\n",
       "      <td>3.292259e+06</td>\n",
       "      <td>3.292259e+06</td>\n",
       "      <td>3.292259e+06</td>\n",
       "      <td>3.292247e+06</td>\n",
       "      <td>3.292247e+06</td>\n",
       "      <td>3.292259e+06</td>\n",
       "      <td>3.292259e+06</td>\n",
       "    </tr>\n",
       "    <tr>\n",
       "      <th>mean</th>\n",
       "      <td>1.616181e+09</td>\n",
       "      <td>1.616830e+09</td>\n",
       "      <td>5.247009e+01</td>\n",
       "      <td>1.339995e+01</td>\n",
       "      <td>1.106815e+01</td>\n",
       "      <td>4.816284e+00</td>\n",
       "      <td>1.015780e+03</td>\n",
       "      <td>1.009950e+03</td>\n",
       "      <td>6.841671e+01</td>\n",
       "      <td>6.407908e+01</td>\n",
       "      <td>...</td>\n",
       "      <td>6.357615e-02</td>\n",
       "      <td>7.369398e-03</td>\n",
       "      <td>1.061202e-05</td>\n",
       "      <td>1.578910e-04</td>\n",
       "      <td>1.083201e+00</td>\n",
       "      <td>1.513291e-03</td>\n",
       "      <td>7.135489e-02</td>\n",
       "      <td>1.096222e+00</td>\n",
       "      <td>1.919358e-05</td>\n",
       "      <td>1.560877e-01</td>\n",
       "    </tr>\n",
       "    <tr>\n",
       "      <th>std</th>\n",
       "      <td>5.603368e+07</td>\n",
       "      <td>5.609776e+07</td>\n",
       "      <td>0.000000e+00</td>\n",
       "      <td>0.000000e+00</td>\n",
       "      <td>8.141868e+00</td>\n",
       "      <td>6.181293e+00</td>\n",
       "      <td>9.509791e+00</td>\n",
       "      <td>9.447282e+00</td>\n",
       "      <td>1.765172e+01</td>\n",
       "      <td>3.815989e+01</td>\n",
       "      <td>...</td>\n",
       "      <td>3.050024e-01</td>\n",
       "      <td>9.227522e-02</td>\n",
       "      <td>2.988257e-03</td>\n",
       "      <td>1.385303e-02</td>\n",
       "      <td>1.825642e+00</td>\n",
       "      <td>9.984040e-03</td>\n",
       "      <td>3.179784e-01</td>\n",
       "      <td>1.024290e+00</td>\n",
       "      <td>6.570214e-05</td>\n",
       "      <td>2.808626e-01</td>\n",
       "    </tr>\n",
       "    <tr>\n",
       "      <th>min</th>\n",
       "      <td>1.507334e+09</td>\n",
       "      <td>1.507334e+09</td>\n",
       "      <td>5.247000e+01</td>\n",
       "      <td>1.340000e+01</td>\n",
       "      <td>-2.129000e+01</td>\n",
       "      <td>-2.467000e+01</td>\n",
       "      <td>9.591600e+02</td>\n",
       "      <td>9.516800e+02</td>\n",
       "      <td>0.000000e+00</td>\n",
       "      <td>0.000000e+00</td>\n",
       "      <td>...</td>\n",
       "      <td>0.000000e+00</td>\n",
       "      <td>0.000000e+00</td>\n",
       "      <td>0.000000e+00</td>\n",
       "      <td>0.000000e+00</td>\n",
       "      <td>0.000000e+00</td>\n",
       "      <td>0.000000e+00</td>\n",
       "      <td>0.000000e+00</td>\n",
       "      <td>1.000000e+00</td>\n",
       "      <td>0.000000e+00</td>\n",
       "      <td>0.000000e+00</td>\n",
       "    </tr>\n",
       "    <tr>\n",
       "      <th>25%</th>\n",
       "      <td>1.571724e+09</td>\n",
       "      <td>1.572415e+09</td>\n",
       "      <td>5.247000e+01</td>\n",
       "      <td>1.340000e+01</td>\n",
       "      <td>4.650000e+00</td>\n",
       "      <td>4.900000e-01</td>\n",
       "      <td>1.010090e+03</td>\n",
       "      <td>1.004310e+03</td>\n",
       "      <td>5.590000e+01</td>\n",
       "      <td>2.700000e+01</td>\n",
       "      <td>...</td>\n",
       "      <td>0.000000e+00</td>\n",
       "      <td>0.000000e+00</td>\n",
       "      <td>0.000000e+00</td>\n",
       "      <td>0.000000e+00</td>\n",
       "      <td>0.000000e+00</td>\n",
       "      <td>0.000000e+00</td>\n",
       "      <td>0.000000e+00</td>\n",
       "      <td>1.000000e+00</td>\n",
       "      <td>0.000000e+00</td>\n",
       "      <td>0.000000e+00</td>\n",
       "    </tr>\n",
       "    <tr>\n",
       "      <th>50%</th>\n",
       "      <td>1.617905e+09</td>\n",
       "      <td>1.618592e+09</td>\n",
       "      <td>5.247000e+01</td>\n",
       "      <td>1.340000e+01</td>\n",
       "      <td>1.023000e+01</td>\n",
       "      <td>4.930000e+00</td>\n",
       "      <td>1.016070e+03</td>\n",
       "      <td>1.010280e+03</td>\n",
       "      <td>7.081000e+01</td>\n",
       "      <td>8.100000e+01</td>\n",
       "      <td>...</td>\n",
       "      <td>0.000000e+00</td>\n",
       "      <td>0.000000e+00</td>\n",
       "      <td>0.000000e+00</td>\n",
       "      <td>0.000000e+00</td>\n",
       "      <td>3.330000e-01</td>\n",
       "      <td>0.000000e+00</td>\n",
       "      <td>0.000000e+00</td>\n",
       "      <td>1.000000e+00</td>\n",
       "      <td>0.000000e+00</td>\n",
       "      <td>0.000000e+00</td>\n",
       "    </tr>\n",
       "    <tr>\n",
       "      <th>75%</th>\n",
       "      <td>1.664086e+09</td>\n",
       "      <td>1.664770e+09</td>\n",
       "      <td>5.247000e+01</td>\n",
       "      <td>1.340000e+01</td>\n",
       "      <td>1.718000e+01</td>\n",
       "      <td>9.440000e+00</td>\n",
       "      <td>1.021830e+03</td>\n",
       "      <td>1.015980e+03</td>\n",
       "      <td>8.256000e+01</td>\n",
       "      <td>1.000000e+02</td>\n",
       "      <td>...</td>\n",
       "      <td>0.000000e+00</td>\n",
       "      <td>0.000000e+00</td>\n",
       "      <td>0.000000e+00</td>\n",
       "      <td>0.000000e+00</td>\n",
       "      <td>1.333000e+00</td>\n",
       "      <td>0.000000e+00</td>\n",
       "      <td>0.000000e+00</td>\n",
       "      <td>1.000000e+00</td>\n",
       "      <td>6.000000e-06</td>\n",
       "      <td>1.900000e-01</td>\n",
       "    </tr>\n",
       "    <tr>\n",
       "      <th>max</th>\n",
       "      <td>1.710266e+09</td>\n",
       "      <td>1.711649e+09</td>\n",
       "      <td>5.247000e+01</td>\n",
       "      <td>1.340000e+01</td>\n",
       "      <td>4.297000e+01</td>\n",
       "      <td>2.282000e+01</td>\n",
       "      <td>1.057870e+03</td>\n",
       "      <td>1.051420e+03</td>\n",
       "      <td>1.000000e+02</td>\n",
       "      <td>1.000000e+02</td>\n",
       "      <td>...</td>\n",
       "      <td>4.500000e+01</td>\n",
       "      <td>1.906200e+01</td>\n",
       "      <td>1.854167e+00</td>\n",
       "      <td>9.000000e+00</td>\n",
       "      <td>2.387500e+01</td>\n",
       "      <td>4.100000e-01</td>\n",
       "      <td>4.500000e+01</td>\n",
       "      <td>1.200000e+01</td>\n",
       "      <td>5.028000e-03</td>\n",
       "      <td>1.000000e+00</td>\n",
       "    </tr>\n",
       "  </tbody>\n",
       "</table>\n",
       "<p>8 rows × 22 columns</p>\n",
       "</div>"
      ],
      "text/plain": [
       "       forecast dt unixtime  slice dt unixtime           lat           lon  \\\n",
       "count          3.292259e+06       3.292259e+06  3.292259e+06  3.292259e+06   \n",
       "mean           1.616181e+09       1.616830e+09  5.247009e+01  1.339995e+01   \n",
       "std            5.603368e+07       5.609776e+07  0.000000e+00  0.000000e+00   \n",
       "min            1.507334e+09       1.507334e+09  5.247000e+01  1.340000e+01   \n",
       "25%            1.571724e+09       1.572415e+09  5.247000e+01  1.340000e+01   \n",
       "50%            1.617905e+09       1.618592e+09  5.247000e+01  1.340000e+01   \n",
       "75%            1.664086e+09       1.664770e+09  5.247000e+01  1.340000e+01   \n",
       "max            1.710266e+09       1.711649e+09  5.247000e+01  1.340000e+01   \n",
       "\n",
       "        temperature     dew_point      pressure  ground_pressure  \\\n",
       "count  3.292259e+06  3.292259e+06  3.292259e+06     3.292259e+06   \n",
       "mean   1.106815e+01  4.816284e+00  1.015780e+03     1.009950e+03   \n",
       "std    8.141868e+00  6.181293e+00  9.509791e+00     9.447282e+00   \n",
       "min   -2.129000e+01 -2.467000e+01  9.591600e+02     9.516800e+02   \n",
       "25%    4.650000e+00  4.900000e-01  1.010090e+03     1.004310e+03   \n",
       "50%    1.023000e+01  4.930000e+00  1.016070e+03     1.010280e+03   \n",
       "75%    1.718000e+01  9.440000e+00  1.021830e+03     1.015980e+03   \n",
       "max    4.297000e+01  2.282000e+01  1.057870e+03     1.051420e+03   \n",
       "\n",
       "           humidity        clouds  ...          rain          snow  \\\n",
       "count  3.292259e+06  3.292259e+06  ...  3.292259e+06  3.292259e+06   \n",
       "mean   6.841671e+01  6.407908e+01  ...  6.357615e-02  7.369398e-03   \n",
       "std    1.765172e+01  3.815989e+01  ...  3.050024e-01  9.227522e-02   \n",
       "min    0.000000e+00  0.000000e+00  ...  0.000000e+00  0.000000e+00   \n",
       "25%    5.590000e+01  2.700000e+01  ...  0.000000e+00  0.000000e+00   \n",
       "50%    7.081000e+01  8.100000e+01  ...  0.000000e+00  0.000000e+00   \n",
       "75%    8.256000e+01  1.000000e+02  ...  0.000000e+00  0.000000e+00   \n",
       "max    1.000000e+02  1.000000e+02  ...  4.500000e+01  1.906200e+01   \n",
       "\n",
       "                ice       fr_rain    convective    snow_depth   accumulated  \\\n",
       "count  3.292259e+06  3.292259e+06  3.292259e+06  3.292259e+06  3.292247e+06   \n",
       "mean   1.061202e-05  1.578910e-04  1.083201e+00  1.513291e-03  7.135489e-02   \n",
       "std    2.988257e-03  1.385303e-02  1.825642e+00  9.984040e-03  3.179784e-01   \n",
       "min    0.000000e+00  0.000000e+00  0.000000e+00  0.000000e+00  0.000000e+00   \n",
       "25%    0.000000e+00  0.000000e+00  0.000000e+00  0.000000e+00  0.000000e+00   \n",
       "50%    0.000000e+00  0.000000e+00  3.330000e-01  0.000000e+00  0.000000e+00   \n",
       "75%    0.000000e+00  0.000000e+00  1.333000e+00  0.000000e+00  0.000000e+00   \n",
       "max    1.854167e+00  9.000000e+00  2.387500e+01  4.100000e-01  4.500000e+01   \n",
       "\n",
       "              hours          rate   probability  \n",
       "count  3.292247e+06  3.292259e+06  3.292259e+06  \n",
       "mean   1.096222e+00  1.919358e-05  1.560877e-01  \n",
       "std    1.024290e+00  6.570214e-05  2.808626e-01  \n",
       "min    1.000000e+00  0.000000e+00  0.000000e+00  \n",
       "25%    1.000000e+00  0.000000e+00  0.000000e+00  \n",
       "50%    1.000000e+00  0.000000e+00  0.000000e+00  \n",
       "75%    1.000000e+00  6.000000e-06  1.900000e-01  \n",
       "max    1.200000e+01  5.028000e-03  1.000000e+00  \n",
       "\n",
       "[8 rows x 22 columns]"
      ]
     },
     "execution_count": 9,
     "metadata": {},
     "output_type": "execute_result"
    }
   ],
   "source": [
    "df.describe()"
   ]
  },
  {
   "cell_type": "code",
   "execution_count": 10,
   "metadata": {},
   "outputs": [
    {
     "data": {
      "text/plain": [
       "Index(['forecast dt unixtime', 'forecast dt iso', 'slice dt unixtime',\n",
       "       'slice dt iso', 'lat', 'lon', 'temperature', 'dew_point', 'pressure',\n",
       "       'ground_pressure', 'humidity', 'clouds', 'wind_speed', 'wind_deg',\n",
       "       'rain', 'snow', 'ice', 'fr_rain', 'convective', 'snow_depth',\n",
       "       'accumulated', 'hours', 'rate', 'probability'],\n",
       "      dtype='object')"
      ]
     },
     "execution_count": 10,
     "metadata": {},
     "output_type": "execute_result"
    }
   ],
   "source": [
    "df.columns"
   ]
  },
  {
   "cell_type": "code",
   "execution_count": 11,
   "metadata": {},
   "outputs": [
    {
     "data": {
      "text/plain": [
       "forecast dt unixtime     0\n",
       "forecast dt iso          0\n",
       "slice dt unixtime        0\n",
       "slice dt iso             0\n",
       "lat                      0\n",
       "lon                      0\n",
       "temperature              0\n",
       "dew_point                0\n",
       "pressure                 0\n",
       "ground_pressure          0\n",
       "humidity                 0\n",
       "clouds                   0\n",
       "wind_speed               0\n",
       "wind_deg                 0\n",
       "rain                     0\n",
       "snow                     0\n",
       "ice                      0\n",
       "fr_rain                  0\n",
       "convective               0\n",
       "snow_depth               0\n",
       "accumulated             12\n",
       "hours                   12\n",
       "rate                     0\n",
       "probability              0\n",
       "dtype: int64"
      ]
     },
     "execution_count": 11,
     "metadata": {},
     "output_type": "execute_result"
    }
   ],
   "source": [
    "df.isna().sum()"
   ]
  },
  {
   "cell_type": "code",
   "execution_count": 12,
   "metadata": {},
   "outputs": [
    {
     "data": {
      "text/plain": [
       "forecast dt unixtime     0\n",
       "forecast dt iso          0\n",
       "slice dt unixtime        0\n",
       "slice dt iso             0\n",
       "lat                      0\n",
       "lon                      0\n",
       "temperature              0\n",
       "dew_point                0\n",
       "pressure                 0\n",
       "ground_pressure          0\n",
       "humidity                 0\n",
       "clouds                   0\n",
       "wind_speed               0\n",
       "wind_deg                 0\n",
       "rain                     0\n",
       "snow                     0\n",
       "ice                      0\n",
       "fr_rain                  0\n",
       "convective               0\n",
       "snow_depth               0\n",
       "accumulated             12\n",
       "hours                   12\n",
       "rate                     0\n",
       "probability              0\n",
       "dtype: int64"
      ]
     },
     "execution_count": 12,
     "metadata": {},
     "output_type": "execute_result"
    }
   ],
   "source": [
    "df.isnull().sum()"
   ]
  },
  {
   "cell_type": "code",
   "execution_count": 13,
   "metadata": {},
   "outputs": [
    {
     "data": {
      "text/html": [
       "<div>\n",
       "<style scoped>\n",
       "    .dataframe tbody tr th:only-of-type {\n",
       "        vertical-align: middle;\n",
       "    }\n",
       "\n",
       "    .dataframe tbody tr th {\n",
       "        vertical-align: top;\n",
       "    }\n",
       "\n",
       "    .dataframe thead th {\n",
       "        text-align: right;\n",
       "    }\n",
       "</style>\n",
       "<table border=\"1\" class=\"dataframe\">\n",
       "  <thead>\n",
       "    <tr style=\"text-align: right;\">\n",
       "      <th></th>\n",
       "      <th>forecast dt unixtime</th>\n",
       "      <th>forecast dt iso</th>\n",
       "      <th>slice dt unixtime</th>\n",
       "      <th>slice dt iso</th>\n",
       "      <th>lat</th>\n",
       "      <th>lon</th>\n",
       "      <th>temperature</th>\n",
       "      <th>dew_point</th>\n",
       "      <th>pressure</th>\n",
       "      <th>ground_pressure</th>\n",
       "      <th>...</th>\n",
       "      <th>rain</th>\n",
       "      <th>snow</th>\n",
       "      <th>ice</th>\n",
       "      <th>fr_rain</th>\n",
       "      <th>convective</th>\n",
       "      <th>snow_depth</th>\n",
       "      <th>accumulated</th>\n",
       "      <th>hours</th>\n",
       "      <th>rate</th>\n",
       "      <th>probability</th>\n",
       "    </tr>\n",
       "  </thead>\n",
       "  <tbody>\n",
       "    <tr>\n",
       "      <th>0</th>\n",
       "      <td>1507334400</td>\n",
       "      <td>2017-10-07 00:00:00 +0000 UTC</td>\n",
       "      <td>1507334400</td>\n",
       "      <td>2017-10-07 00:00:00 +0000 UTC</td>\n",
       "      <td>52.470001</td>\n",
       "      <td>13.4</td>\n",
       "      <td>9.07</td>\n",
       "      <td>7.75</td>\n",
       "      <td>1015.809998</td>\n",
       "      <td>1010.159973</td>\n",
       "      <td>...</td>\n",
       "      <td>0.0</td>\n",
       "      <td>0.0</td>\n",
       "      <td>0.0</td>\n",
       "      <td>0.0</td>\n",
       "      <td>0.0</td>\n",
       "      <td>0.0</td>\n",
       "      <td>0.0</td>\n",
       "      <td>1.0</td>\n",
       "      <td>0.000000</td>\n",
       "      <td>0.00</td>\n",
       "    </tr>\n",
       "    <tr>\n",
       "      <th>1</th>\n",
       "      <td>1507334400</td>\n",
       "      <td>2017-10-07 00:00:00 +0000 UTC</td>\n",
       "      <td>1507338000</td>\n",
       "      <td>2017-10-07 01:00:00 +0000 UTC</td>\n",
       "      <td>52.470001</td>\n",
       "      <td>13.4</td>\n",
       "      <td>9.49</td>\n",
       "      <td>7.62</td>\n",
       "      <td>1015.750000</td>\n",
       "      <td>1010.190002</td>\n",
       "      <td>...</td>\n",
       "      <td>0.0</td>\n",
       "      <td>0.0</td>\n",
       "      <td>0.0</td>\n",
       "      <td>0.0</td>\n",
       "      <td>0.0</td>\n",
       "      <td>0.0</td>\n",
       "      <td>0.0</td>\n",
       "      <td>1.0</td>\n",
       "      <td>0.000000</td>\n",
       "      <td>0.04</td>\n",
       "    </tr>\n",
       "    <tr>\n",
       "      <th>2</th>\n",
       "      <td>1507334400</td>\n",
       "      <td>2017-10-07 00:00:00 +0000 UTC</td>\n",
       "      <td>1507341600</td>\n",
       "      <td>2017-10-07 02:00:00 +0000 UTC</td>\n",
       "      <td>52.470001</td>\n",
       "      <td>13.4</td>\n",
       "      <td>9.64</td>\n",
       "      <td>7.68</td>\n",
       "      <td>1015.799988</td>\n",
       "      <td>1010.289978</td>\n",
       "      <td>...</td>\n",
       "      <td>0.0</td>\n",
       "      <td>0.0</td>\n",
       "      <td>0.0</td>\n",
       "      <td>0.0</td>\n",
       "      <td>0.0</td>\n",
       "      <td>0.0</td>\n",
       "      <td>0.0</td>\n",
       "      <td>1.0</td>\n",
       "      <td>0.000000</td>\n",
       "      <td>0.03</td>\n",
       "    </tr>\n",
       "    <tr>\n",
       "      <th>3</th>\n",
       "      <td>1507334400</td>\n",
       "      <td>2017-10-07 00:00:00 +0000 UTC</td>\n",
       "      <td>1507345200</td>\n",
       "      <td>2017-10-07 03:00:00 +0000 UTC</td>\n",
       "      <td>52.470001</td>\n",
       "      <td>13.4</td>\n",
       "      <td>9.63</td>\n",
       "      <td>7.85</td>\n",
       "      <td>1015.909973</td>\n",
       "      <td>1010.400024</td>\n",
       "      <td>...</td>\n",
       "      <td>0.0</td>\n",
       "      <td>0.0</td>\n",
       "      <td>0.0</td>\n",
       "      <td>0.0</td>\n",
       "      <td>0.0</td>\n",
       "      <td>0.0</td>\n",
       "      <td>0.0</td>\n",
       "      <td>1.0</td>\n",
       "      <td>0.000000</td>\n",
       "      <td>0.00</td>\n",
       "    </tr>\n",
       "    <tr>\n",
       "      <th>4</th>\n",
       "      <td>1507334400</td>\n",
       "      <td>2017-10-07 00:00:00 +0000 UTC</td>\n",
       "      <td>1507348800</td>\n",
       "      <td>2017-10-07 04:00:00 +0000 UTC</td>\n",
       "      <td>52.470001</td>\n",
       "      <td>13.4</td>\n",
       "      <td>9.61</td>\n",
       "      <td>8.02</td>\n",
       "      <td>1016.030029</td>\n",
       "      <td>1010.520020</td>\n",
       "      <td>...</td>\n",
       "      <td>0.0</td>\n",
       "      <td>0.0</td>\n",
       "      <td>0.0</td>\n",
       "      <td>0.0</td>\n",
       "      <td>0.0</td>\n",
       "      <td>0.0</td>\n",
       "      <td>0.0</td>\n",
       "      <td>1.0</td>\n",
       "      <td>0.000008</td>\n",
       "      <td>0.00</td>\n",
       "    </tr>\n",
       "  </tbody>\n",
       "</table>\n",
       "<p>5 rows × 24 columns</p>\n",
       "</div>"
      ],
      "text/plain": [
       "   forecast dt unixtime                forecast dt iso  slice dt unixtime  \\\n",
       "0            1507334400  2017-10-07 00:00:00 +0000 UTC         1507334400   \n",
       "1            1507334400  2017-10-07 00:00:00 +0000 UTC         1507338000   \n",
       "2            1507334400  2017-10-07 00:00:00 +0000 UTC         1507341600   \n",
       "3            1507334400  2017-10-07 00:00:00 +0000 UTC         1507345200   \n",
       "4            1507334400  2017-10-07 00:00:00 +0000 UTC         1507348800   \n",
       "\n",
       "                    slice dt iso        lat   lon  temperature  dew_point  \\\n",
       "0  2017-10-07 00:00:00 +0000 UTC  52.470001  13.4         9.07       7.75   \n",
       "1  2017-10-07 01:00:00 +0000 UTC  52.470001  13.4         9.49       7.62   \n",
       "2  2017-10-07 02:00:00 +0000 UTC  52.470001  13.4         9.64       7.68   \n",
       "3  2017-10-07 03:00:00 +0000 UTC  52.470001  13.4         9.63       7.85   \n",
       "4  2017-10-07 04:00:00 +0000 UTC  52.470001  13.4         9.61       8.02   \n",
       "\n",
       "      pressure  ground_pressure  ...  rain  snow  ice  fr_rain  convective  \\\n",
       "0  1015.809998      1010.159973  ...   0.0   0.0  0.0      0.0         0.0   \n",
       "1  1015.750000      1010.190002  ...   0.0   0.0  0.0      0.0         0.0   \n",
       "2  1015.799988      1010.289978  ...   0.0   0.0  0.0      0.0         0.0   \n",
       "3  1015.909973      1010.400024  ...   0.0   0.0  0.0      0.0         0.0   \n",
       "4  1016.030029      1010.520020  ...   0.0   0.0  0.0      0.0         0.0   \n",
       "\n",
       "   snow_depth  accumulated  hours      rate  probability  \n",
       "0         0.0          0.0    1.0  0.000000         0.00  \n",
       "1         0.0          0.0    1.0  0.000000         0.04  \n",
       "2         0.0          0.0    1.0  0.000000         0.03  \n",
       "3         0.0          0.0    1.0  0.000000         0.00  \n",
       "4         0.0          0.0    1.0  0.000008         0.00  \n",
       "\n",
       "[5 rows x 24 columns]"
      ]
     },
     "execution_count": 13,
     "metadata": {},
     "output_type": "execute_result"
    }
   ],
   "source": [
    "df.head()"
   ]
  },
  {
   "cell_type": "code",
   "execution_count": 22,
   "metadata": {},
   "outputs": [
    {
     "data": {
      "text/html": [
       "<div>\n",
       "<style scoped>\n",
       "    .dataframe tbody tr th:only-of-type {\n",
       "        vertical-align: middle;\n",
       "    }\n",
       "\n",
       "    .dataframe tbody tr th {\n",
       "        vertical-align: top;\n",
       "    }\n",
       "\n",
       "    .dataframe thead th {\n",
       "        text-align: right;\n",
       "    }\n",
       "</style>\n",
       "<table border=\"1\" class=\"dataframe\">\n",
       "  <thead>\n",
       "    <tr style=\"text-align: right;\">\n",
       "      <th></th>\n",
       "      <th>forecast dt unixtime</th>\n",
       "      <th>forecast dt iso</th>\n",
       "      <th>slice dt unixtime</th>\n",
       "      <th>slice dt iso</th>\n",
       "      <th>lat</th>\n",
       "    </tr>\n",
       "  </thead>\n",
       "  <tbody>\n",
       "    <tr>\n",
       "      <th>3292227</th>\n",
       "      <td>1710266400</td>\n",
       "      <td>2024-03-12 18:00:00 +0000 UTC</td>\n",
       "      <td>1711537200</td>\n",
       "      <td>2024-03-27 11:00:00 +0000 UTC</td>\n",
       "      <td>52.470001</td>\n",
       "    </tr>\n",
       "    <tr>\n",
       "      <th>3292228</th>\n",
       "      <td>1710266400</td>\n",
       "      <td>2024-03-12 18:00:00 +0000 UTC</td>\n",
       "      <td>1711540800</td>\n",
       "      <td>2024-03-27 12:00:00 +0000 UTC</td>\n",
       "      <td>52.470001</td>\n",
       "    </tr>\n",
       "    <tr>\n",
       "      <th>3292229</th>\n",
       "      <td>1710266400</td>\n",
       "      <td>2024-03-12 18:00:00 +0000 UTC</td>\n",
       "      <td>1711544400</td>\n",
       "      <td>2024-03-27 13:00:00 +0000 UTC</td>\n",
       "      <td>52.470001</td>\n",
       "    </tr>\n",
       "    <tr>\n",
       "      <th>3292230</th>\n",
       "      <td>1710266400</td>\n",
       "      <td>2024-03-12 18:00:00 +0000 UTC</td>\n",
       "      <td>1711548000</td>\n",
       "      <td>2024-03-27 14:00:00 +0000 UTC</td>\n",
       "      <td>52.470001</td>\n",
       "    </tr>\n",
       "    <tr>\n",
       "      <th>3292231</th>\n",
       "      <td>1710266400</td>\n",
       "      <td>2024-03-12 18:00:00 +0000 UTC</td>\n",
       "      <td>1711551600</td>\n",
       "      <td>2024-03-27 15:00:00 +0000 UTC</td>\n",
       "      <td>52.470001</td>\n",
       "    </tr>\n",
       "    <tr>\n",
       "      <th>3292232</th>\n",
       "      <td>1710266400</td>\n",
       "      <td>2024-03-12 18:00:00 +0000 UTC</td>\n",
       "      <td>1711555200</td>\n",
       "      <td>2024-03-27 16:00:00 +0000 UTC</td>\n",
       "      <td>52.470001</td>\n",
       "    </tr>\n",
       "    <tr>\n",
       "      <th>3292233</th>\n",
       "      <td>1710266400</td>\n",
       "      <td>2024-03-12 18:00:00 +0000 UTC</td>\n",
       "      <td>1711558800</td>\n",
       "      <td>2024-03-27 17:00:00 +0000 UTC</td>\n",
       "      <td>52.470001</td>\n",
       "    </tr>\n",
       "    <tr>\n",
       "      <th>3292234</th>\n",
       "      <td>1710266400</td>\n",
       "      <td>2024-03-12 18:00:00 +0000 UTC</td>\n",
       "      <td>1711562400</td>\n",
       "      <td>2024-03-27 18:00:00 +0000 UTC</td>\n",
       "      <td>52.470001</td>\n",
       "    </tr>\n",
       "    <tr>\n",
       "      <th>3292235</th>\n",
       "      <td>1710266400</td>\n",
       "      <td>2024-03-12 18:00:00 +0000 UTC</td>\n",
       "      <td>1711566000</td>\n",
       "      <td>2024-03-27 19:00:00 +0000 UTC</td>\n",
       "      <td>52.470001</td>\n",
       "    </tr>\n",
       "    <tr>\n",
       "      <th>3292236</th>\n",
       "      <td>1710266400</td>\n",
       "      <td>2024-03-12 18:00:00 +0000 UTC</td>\n",
       "      <td>1711569600</td>\n",
       "      <td>2024-03-27 20:00:00 +0000 UTC</td>\n",
       "      <td>52.470001</td>\n",
       "    </tr>\n",
       "    <tr>\n",
       "      <th>3292237</th>\n",
       "      <td>1710266400</td>\n",
       "      <td>2024-03-12 18:00:00 +0000 UTC</td>\n",
       "      <td>1711573200</td>\n",
       "      <td>2024-03-27 21:00:00 +0000 UTC</td>\n",
       "      <td>52.470001</td>\n",
       "    </tr>\n",
       "    <tr>\n",
       "      <th>3292238</th>\n",
       "      <td>1710266400</td>\n",
       "      <td>2024-03-12 18:00:00 +0000 UTC</td>\n",
       "      <td>1711576800</td>\n",
       "      <td>2024-03-27 22:00:00 +0000 UTC</td>\n",
       "      <td>52.470001</td>\n",
       "    </tr>\n",
       "    <tr>\n",
       "      <th>3292239</th>\n",
       "      <td>1710266400</td>\n",
       "      <td>2024-03-12 18:00:00 +0000 UTC</td>\n",
       "      <td>1711580400</td>\n",
       "      <td>2024-03-27 23:00:00 +0000 UTC</td>\n",
       "      <td>52.470001</td>\n",
       "    </tr>\n",
       "    <tr>\n",
       "      <th>3292240</th>\n",
       "      <td>1710266400</td>\n",
       "      <td>2024-03-12 18:00:00 +0000 UTC</td>\n",
       "      <td>1711584000</td>\n",
       "      <td>2024-03-28 00:00:00 +0000 UTC</td>\n",
       "      <td>52.470001</td>\n",
       "    </tr>\n",
       "    <tr>\n",
       "      <th>3292241</th>\n",
       "      <td>1710266400</td>\n",
       "      <td>2024-03-12 18:00:00 +0000 UTC</td>\n",
       "      <td>1711587600</td>\n",
       "      <td>2024-03-28 01:00:00 +0000 UTC</td>\n",
       "      <td>52.470001</td>\n",
       "    </tr>\n",
       "    <tr>\n",
       "      <th>3292242</th>\n",
       "      <td>1710266400</td>\n",
       "      <td>2024-03-12 18:00:00 +0000 UTC</td>\n",
       "      <td>1711591200</td>\n",
       "      <td>2024-03-28 02:00:00 +0000 UTC</td>\n",
       "      <td>52.470001</td>\n",
       "    </tr>\n",
       "    <tr>\n",
       "      <th>3292243</th>\n",
       "      <td>1710266400</td>\n",
       "      <td>2024-03-12 18:00:00 +0000 UTC</td>\n",
       "      <td>1711594800</td>\n",
       "      <td>2024-03-28 03:00:00 +0000 UTC</td>\n",
       "      <td>52.470001</td>\n",
       "    </tr>\n",
       "    <tr>\n",
       "      <th>3292244</th>\n",
       "      <td>1710266400</td>\n",
       "      <td>2024-03-12 18:00:00 +0000 UTC</td>\n",
       "      <td>1711598400</td>\n",
       "      <td>2024-03-28 04:00:00 +0000 UTC</td>\n",
       "      <td>52.470001</td>\n",
       "    </tr>\n",
       "    <tr>\n",
       "      <th>3292245</th>\n",
       "      <td>1710266400</td>\n",
       "      <td>2024-03-12 18:00:00 +0000 UTC</td>\n",
       "      <td>1711602000</td>\n",
       "      <td>2024-03-28 05:00:00 +0000 UTC</td>\n",
       "      <td>52.470001</td>\n",
       "    </tr>\n",
       "    <tr>\n",
       "      <th>3292246</th>\n",
       "      <td>1710266400</td>\n",
       "      <td>2024-03-12 18:00:00 +0000 UTC</td>\n",
       "      <td>1711605600</td>\n",
       "      <td>2024-03-28 06:00:00 +0000 UTC</td>\n",
       "      <td>52.470001</td>\n",
       "    </tr>\n",
       "    <tr>\n",
       "      <th>3292247</th>\n",
       "      <td>1710266400</td>\n",
       "      <td>2024-03-12 18:00:00 +0000 UTC</td>\n",
       "      <td>1711609200</td>\n",
       "      <td>2024-03-28 07:00:00 +0000 UTC</td>\n",
       "      <td>52.470001</td>\n",
       "    </tr>\n",
       "    <tr>\n",
       "      <th>3292248</th>\n",
       "      <td>1710266400</td>\n",
       "      <td>2024-03-12 18:00:00 +0000 UTC</td>\n",
       "      <td>1711612800</td>\n",
       "      <td>2024-03-28 08:00:00 +0000 UTC</td>\n",
       "      <td>52.470001</td>\n",
       "    </tr>\n",
       "    <tr>\n",
       "      <th>3292249</th>\n",
       "      <td>1710266400</td>\n",
       "      <td>2024-03-12 18:00:00 +0000 UTC</td>\n",
       "      <td>1711616400</td>\n",
       "      <td>2024-03-28 09:00:00 +0000 UTC</td>\n",
       "      <td>52.470001</td>\n",
       "    </tr>\n",
       "    <tr>\n",
       "      <th>3292250</th>\n",
       "      <td>1710266400</td>\n",
       "      <td>2024-03-12 18:00:00 +0000 UTC</td>\n",
       "      <td>1711620000</td>\n",
       "      <td>2024-03-28 10:00:00 +0000 UTC</td>\n",
       "      <td>52.470001</td>\n",
       "    </tr>\n",
       "    <tr>\n",
       "      <th>3292251</th>\n",
       "      <td>1710266400</td>\n",
       "      <td>2024-03-12 18:00:00 +0000 UTC</td>\n",
       "      <td>1711623600</td>\n",
       "      <td>2024-03-28 11:00:00 +0000 UTC</td>\n",
       "      <td>52.470001</td>\n",
       "    </tr>\n",
       "    <tr>\n",
       "      <th>3292252</th>\n",
       "      <td>1710266400</td>\n",
       "      <td>2024-03-12 18:00:00 +0000 UTC</td>\n",
       "      <td>1711627200</td>\n",
       "      <td>2024-03-28 12:00:00 +0000 UTC</td>\n",
       "      <td>52.470001</td>\n",
       "    </tr>\n",
       "    <tr>\n",
       "      <th>3292253</th>\n",
       "      <td>1710266400</td>\n",
       "      <td>2024-03-12 18:00:00 +0000 UTC</td>\n",
       "      <td>1711630800</td>\n",
       "      <td>2024-03-28 13:00:00 +0000 UTC</td>\n",
       "      <td>52.470001</td>\n",
       "    </tr>\n",
       "    <tr>\n",
       "      <th>3292254</th>\n",
       "      <td>1710266400</td>\n",
       "      <td>2024-03-12 18:00:00 +0000 UTC</td>\n",
       "      <td>1711634400</td>\n",
       "      <td>2024-03-28 14:00:00 +0000 UTC</td>\n",
       "      <td>52.470001</td>\n",
       "    </tr>\n",
       "    <tr>\n",
       "      <th>3292255</th>\n",
       "      <td>1710266400</td>\n",
       "      <td>2024-03-12 18:00:00 +0000 UTC</td>\n",
       "      <td>1711638000</td>\n",
       "      <td>2024-03-28 15:00:00 +0000 UTC</td>\n",
       "      <td>52.470001</td>\n",
       "    </tr>\n",
       "    <tr>\n",
       "      <th>3292256</th>\n",
       "      <td>1710266400</td>\n",
       "      <td>2024-03-12 18:00:00 +0000 UTC</td>\n",
       "      <td>1711641600</td>\n",
       "      <td>2024-03-28 16:00:00 +0000 UTC</td>\n",
       "      <td>52.470001</td>\n",
       "    </tr>\n",
       "    <tr>\n",
       "      <th>3292257</th>\n",
       "      <td>1710266400</td>\n",
       "      <td>2024-03-12 18:00:00 +0000 UTC</td>\n",
       "      <td>1711645200</td>\n",
       "      <td>2024-03-28 17:00:00 +0000 UTC</td>\n",
       "      <td>52.470001</td>\n",
       "    </tr>\n",
       "    <tr>\n",
       "      <th>3292258</th>\n",
       "      <td>1710266400</td>\n",
       "      <td>2024-03-12 18:00:00 +0000 UTC</td>\n",
       "      <td>1711648800</td>\n",
       "      <td>2024-03-28 18:00:00 +0000 UTC</td>\n",
       "      <td>52.470001</td>\n",
       "    </tr>\n",
       "  </tbody>\n",
       "</table>\n",
       "</div>"
      ],
      "text/plain": [
       "         forecast dt unixtime                forecast dt iso  \\\n",
       "3292227            1710266400  2024-03-12 18:00:00 +0000 UTC   \n",
       "3292228            1710266400  2024-03-12 18:00:00 +0000 UTC   \n",
       "3292229            1710266400  2024-03-12 18:00:00 +0000 UTC   \n",
       "3292230            1710266400  2024-03-12 18:00:00 +0000 UTC   \n",
       "3292231            1710266400  2024-03-12 18:00:00 +0000 UTC   \n",
       "3292232            1710266400  2024-03-12 18:00:00 +0000 UTC   \n",
       "3292233            1710266400  2024-03-12 18:00:00 +0000 UTC   \n",
       "3292234            1710266400  2024-03-12 18:00:00 +0000 UTC   \n",
       "3292235            1710266400  2024-03-12 18:00:00 +0000 UTC   \n",
       "3292236            1710266400  2024-03-12 18:00:00 +0000 UTC   \n",
       "3292237            1710266400  2024-03-12 18:00:00 +0000 UTC   \n",
       "3292238            1710266400  2024-03-12 18:00:00 +0000 UTC   \n",
       "3292239            1710266400  2024-03-12 18:00:00 +0000 UTC   \n",
       "3292240            1710266400  2024-03-12 18:00:00 +0000 UTC   \n",
       "3292241            1710266400  2024-03-12 18:00:00 +0000 UTC   \n",
       "3292242            1710266400  2024-03-12 18:00:00 +0000 UTC   \n",
       "3292243            1710266400  2024-03-12 18:00:00 +0000 UTC   \n",
       "3292244            1710266400  2024-03-12 18:00:00 +0000 UTC   \n",
       "3292245            1710266400  2024-03-12 18:00:00 +0000 UTC   \n",
       "3292246            1710266400  2024-03-12 18:00:00 +0000 UTC   \n",
       "3292247            1710266400  2024-03-12 18:00:00 +0000 UTC   \n",
       "3292248            1710266400  2024-03-12 18:00:00 +0000 UTC   \n",
       "3292249            1710266400  2024-03-12 18:00:00 +0000 UTC   \n",
       "3292250            1710266400  2024-03-12 18:00:00 +0000 UTC   \n",
       "3292251            1710266400  2024-03-12 18:00:00 +0000 UTC   \n",
       "3292252            1710266400  2024-03-12 18:00:00 +0000 UTC   \n",
       "3292253            1710266400  2024-03-12 18:00:00 +0000 UTC   \n",
       "3292254            1710266400  2024-03-12 18:00:00 +0000 UTC   \n",
       "3292255            1710266400  2024-03-12 18:00:00 +0000 UTC   \n",
       "3292256            1710266400  2024-03-12 18:00:00 +0000 UTC   \n",
       "3292257            1710266400  2024-03-12 18:00:00 +0000 UTC   \n",
       "3292258            1710266400  2024-03-12 18:00:00 +0000 UTC   \n",
       "\n",
       "         slice dt unixtime                   slice dt iso        lat  \n",
       "3292227         1711537200  2024-03-27 11:00:00 +0000 UTC  52.470001  \n",
       "3292228         1711540800  2024-03-27 12:00:00 +0000 UTC  52.470001  \n",
       "3292229         1711544400  2024-03-27 13:00:00 +0000 UTC  52.470001  \n",
       "3292230         1711548000  2024-03-27 14:00:00 +0000 UTC  52.470001  \n",
       "3292231         1711551600  2024-03-27 15:00:00 +0000 UTC  52.470001  \n",
       "3292232         1711555200  2024-03-27 16:00:00 +0000 UTC  52.470001  \n",
       "3292233         1711558800  2024-03-27 17:00:00 +0000 UTC  52.470001  \n",
       "3292234         1711562400  2024-03-27 18:00:00 +0000 UTC  52.470001  \n",
       "3292235         1711566000  2024-03-27 19:00:00 +0000 UTC  52.470001  \n",
       "3292236         1711569600  2024-03-27 20:00:00 +0000 UTC  52.470001  \n",
       "3292237         1711573200  2024-03-27 21:00:00 +0000 UTC  52.470001  \n",
       "3292238         1711576800  2024-03-27 22:00:00 +0000 UTC  52.470001  \n",
       "3292239         1711580400  2024-03-27 23:00:00 +0000 UTC  52.470001  \n",
       "3292240         1711584000  2024-03-28 00:00:00 +0000 UTC  52.470001  \n",
       "3292241         1711587600  2024-03-28 01:00:00 +0000 UTC  52.470001  \n",
       "3292242         1711591200  2024-03-28 02:00:00 +0000 UTC  52.470001  \n",
       "3292243         1711594800  2024-03-28 03:00:00 +0000 UTC  52.470001  \n",
       "3292244         1711598400  2024-03-28 04:00:00 +0000 UTC  52.470001  \n",
       "3292245         1711602000  2024-03-28 05:00:00 +0000 UTC  52.470001  \n",
       "3292246         1711605600  2024-03-28 06:00:00 +0000 UTC  52.470001  \n",
       "3292247         1711609200  2024-03-28 07:00:00 +0000 UTC  52.470001  \n",
       "3292248         1711612800  2024-03-28 08:00:00 +0000 UTC  52.470001  \n",
       "3292249         1711616400  2024-03-28 09:00:00 +0000 UTC  52.470001  \n",
       "3292250         1711620000  2024-03-28 10:00:00 +0000 UTC  52.470001  \n",
       "3292251         1711623600  2024-03-28 11:00:00 +0000 UTC  52.470001  \n",
       "3292252         1711627200  2024-03-28 12:00:00 +0000 UTC  52.470001  \n",
       "3292253         1711630800  2024-03-28 13:00:00 +0000 UTC  52.470001  \n",
       "3292254         1711634400  2024-03-28 14:00:00 +0000 UTC  52.470001  \n",
       "3292255         1711638000  2024-03-28 15:00:00 +0000 UTC  52.470001  \n",
       "3292256         1711641600  2024-03-28 16:00:00 +0000 UTC  52.470001  \n",
       "3292257         1711645200  2024-03-28 17:00:00 +0000 UTC  52.470001  \n",
       "3292258         1711648800  2024-03-28 18:00:00 +0000 UTC  52.470001  "
      ]
     },
     "execution_count": 22,
     "metadata": {},
     "output_type": "execute_result"
    }
   ],
   "source": [
    "df.iloc[-32:,0:5]"
   ]
  },
  {
   "cell_type": "markdown",
   "metadata": {},
   "source": [
    "# Convert the DataFrame for 1 Forecast prediction per day"
   ]
  },
  {
   "cell_type": "code",
   "execution_count": 126,
   "metadata": {},
   "outputs": [],
   "source": [
    "time_features =['forecast dt unixtime', 'forecast dt iso', 'slice dt unixtime',\n",
    "       'slice dt iso',]\n",
    "\n",
    "df_time = df[time_features][:5060]"
   ]
  },
  {
   "cell_type": "code",
   "execution_count": 132,
   "metadata": {},
   "outputs": [
    {
     "data": {
      "text/plain": [
       "Timestamp('2017-10-07 00:00:00+0000', tz='UTC')"
      ]
     },
     "execution_count": 132,
     "metadata": {},
     "output_type": "execute_result"
    }
   ],
   "source": [
    "df_time['forecast dt iso'][0]"
   ]
  },
  {
   "cell_type": "code",
   "execution_count": 99,
   "metadata": {},
   "outputs": [],
   "source": [
    "df_time['forecast dt iso'] = df_time['forecast dt iso'].apply(lambda row: datetime.datetime.strptime(row, \"%Y-%m-%d %H:%M:%S %z %Z\"))\n",
    "df_time['slice dt iso'] = df_time['slice dt iso'].apply(lambda row: datetime.datetime.strptime(row, \"%Y-%m-%d %H:%M:%S %z %Z\"))"
   ]
  },
  {
   "cell_type": "code",
   "execution_count": 123,
   "metadata": {},
   "outputs": [
    {
     "ename": "TypeError",
     "evalue": "<lambda>() got an unexpected keyword argument 'axis'",
     "output_type": "error",
     "traceback": [
      "\u001b[0;31m---------------------------------------------------------------------------\u001b[0m",
      "\u001b[0;31mTypeError\u001b[0m                                 Traceback (most recent call last)",
      "Cell \u001b[0;32mIn[123], line 1\u001b[0m\n\u001b[0;32m----> 1\u001b[0m df_time[\u001b[38;5;124m'\u001b[39m\u001b[38;5;124mforecast dt iso\u001b[39m\u001b[38;5;124m'\u001b[39m] \u001b[38;5;241m=\u001b[39m \u001b[43mdf_time\u001b[49m\u001b[43m[\u001b[49m\u001b[38;5;124;43m'\u001b[39;49m\u001b[38;5;124;43mforecast dt iso\u001b[39;49m\u001b[38;5;124;43m'\u001b[39;49m\u001b[43m]\u001b[49m\u001b[38;5;241;43m.\u001b[39;49m\u001b[43mapply\u001b[49m\u001b[43m(\u001b[49m\u001b[38;5;28;43;01mlambda\u001b[39;49;00m\u001b[43m \u001b[49m\u001b[43mcol\u001b[49m\u001b[43m:\u001b[49m\u001b[43m \u001b[49m\u001b[43mdatetime\u001b[49m\u001b[38;5;241;43m.\u001b[39;49m\u001b[43mdatetime\u001b[49m\u001b[38;5;241;43m.\u001b[39;49m\u001b[43mstrptime\u001b[49m\u001b[43m(\u001b[49m\u001b[43mcol\u001b[49m\u001b[43m,\u001b[49m\u001b[43m \u001b[49m\u001b[38;5;124;43m\"\u001b[39;49m\u001b[38;5;124;43m%\u001b[39;49m\u001b[38;5;124;43mY-\u001b[39;49m\u001b[38;5;124;43m%\u001b[39;49m\u001b[38;5;124;43mm-\u001b[39;49m\u001b[38;5;132;43;01m%d\u001b[39;49;00m\u001b[38;5;124;43m \u001b[39;49m\u001b[38;5;124;43m%\u001b[39;49m\u001b[38;5;124;43mH:\u001b[39;49m\u001b[38;5;124;43m%\u001b[39;49m\u001b[38;5;124;43mM:\u001b[39;49m\u001b[38;5;124;43m%\u001b[39;49m\u001b[38;5;124;43mS \u001b[39;49m\u001b[38;5;124;43m%\u001b[39;49m\u001b[38;5;124;43mz \u001b[39;49m\u001b[38;5;124;43m%\u001b[39;49m\u001b[38;5;124;43mZ\u001b[39;49m\u001b[38;5;124;43m\"\u001b[39;49m\u001b[43m)\u001b[49m\u001b[43m,\u001b[49m\u001b[43m \u001b[49m\u001b[43maxis\u001b[49m\u001b[38;5;241;43m=\u001b[39;49m\u001b[38;5;241;43m0\u001b[39;49m\u001b[43m)\u001b[49m\n",
      "File \u001b[0;32m~/.pyenv/versions/3.10.6/envs/power/lib/python3.10/site-packages/pandas/core/series.py:4915\u001b[0m, in \u001b[0;36mSeries.apply\u001b[0;34m(self, func, convert_dtype, args, by_row, **kwargs)\u001b[0m\n\u001b[1;32m   4780\u001b[0m \u001b[38;5;28;01mdef\u001b[39;00m \u001b[38;5;21mapply\u001b[39m(\n\u001b[1;32m   4781\u001b[0m     \u001b[38;5;28mself\u001b[39m,\n\u001b[1;32m   4782\u001b[0m     func: AggFuncType,\n\u001b[0;32m   (...)\u001b[0m\n\u001b[1;32m   4787\u001b[0m     \u001b[38;5;241m*\u001b[39m\u001b[38;5;241m*\u001b[39mkwargs,\n\u001b[1;32m   4788\u001b[0m ) \u001b[38;5;241m-\u001b[39m\u001b[38;5;241m>\u001b[39m DataFrame \u001b[38;5;241m|\u001b[39m Series:\n\u001b[1;32m   4789\u001b[0m \u001b[38;5;250m    \u001b[39m\u001b[38;5;124;03m\"\"\"\u001b[39;00m\n\u001b[1;32m   4790\u001b[0m \u001b[38;5;124;03m    Invoke function on values of Series.\u001b[39;00m\n\u001b[1;32m   4791\u001b[0m \n\u001b[0;32m   (...)\u001b[0m\n\u001b[1;32m   4906\u001b[0m \u001b[38;5;124;03m    dtype: float64\u001b[39;00m\n\u001b[1;32m   4907\u001b[0m \u001b[38;5;124;03m    \"\"\"\u001b[39;00m\n\u001b[1;32m   4908\u001b[0m     \u001b[38;5;28;01mreturn\u001b[39;00m \u001b[43mSeriesApply\u001b[49m\u001b[43m(\u001b[49m\n\u001b[1;32m   4909\u001b[0m \u001b[43m        \u001b[49m\u001b[38;5;28;43mself\u001b[39;49m\u001b[43m,\u001b[49m\n\u001b[1;32m   4910\u001b[0m \u001b[43m        \u001b[49m\u001b[43mfunc\u001b[49m\u001b[43m,\u001b[49m\n\u001b[1;32m   4911\u001b[0m \u001b[43m        \u001b[49m\u001b[43mconvert_dtype\u001b[49m\u001b[38;5;241;43m=\u001b[39;49m\u001b[43mconvert_dtype\u001b[49m\u001b[43m,\u001b[49m\n\u001b[1;32m   4912\u001b[0m \u001b[43m        \u001b[49m\u001b[43mby_row\u001b[49m\u001b[38;5;241;43m=\u001b[39;49m\u001b[43mby_row\u001b[49m\u001b[43m,\u001b[49m\n\u001b[1;32m   4913\u001b[0m \u001b[43m        \u001b[49m\u001b[43margs\u001b[49m\u001b[38;5;241;43m=\u001b[39;49m\u001b[43margs\u001b[49m\u001b[43m,\u001b[49m\n\u001b[1;32m   4914\u001b[0m \u001b[43m        \u001b[49m\u001b[43mkwargs\u001b[49m\u001b[38;5;241;43m=\u001b[39;49m\u001b[43mkwargs\u001b[49m\u001b[43m,\u001b[49m\n\u001b[0;32m-> 4915\u001b[0m \u001b[43m    \u001b[49m\u001b[43m)\u001b[49m\u001b[38;5;241;43m.\u001b[39;49m\u001b[43mapply\u001b[49m\u001b[43m(\u001b[49m\u001b[43m)\u001b[49m\n",
      "File \u001b[0;32m~/.pyenv/versions/3.10.6/envs/power/lib/python3.10/site-packages/pandas/core/apply.py:1427\u001b[0m, in \u001b[0;36mSeriesApply.apply\u001b[0;34m(self)\u001b[0m\n\u001b[1;32m   1424\u001b[0m     \u001b[38;5;28;01mreturn\u001b[39;00m \u001b[38;5;28mself\u001b[39m\u001b[38;5;241m.\u001b[39mapply_compat()\n\u001b[1;32m   1426\u001b[0m \u001b[38;5;66;03m# self.func is Callable\u001b[39;00m\n\u001b[0;32m-> 1427\u001b[0m \u001b[38;5;28;01mreturn\u001b[39;00m \u001b[38;5;28;43mself\u001b[39;49m\u001b[38;5;241;43m.\u001b[39;49m\u001b[43mapply_standard\u001b[49m\u001b[43m(\u001b[49m\u001b[43m)\u001b[49m\n",
      "File \u001b[0;32m~/.pyenv/versions/3.10.6/envs/power/lib/python3.10/site-packages/pandas/core/apply.py:1507\u001b[0m, in \u001b[0;36mSeriesApply.apply_standard\u001b[0;34m(self)\u001b[0m\n\u001b[1;32m   1501\u001b[0m \u001b[38;5;66;03m# row-wise access\u001b[39;00m\n\u001b[1;32m   1502\u001b[0m \u001b[38;5;66;03m# apply doesn't have a `na_action` keyword and for backward compat reasons\u001b[39;00m\n\u001b[1;32m   1503\u001b[0m \u001b[38;5;66;03m# we need to give `na_action=\"ignore\"` for categorical data.\u001b[39;00m\n\u001b[1;32m   1504\u001b[0m \u001b[38;5;66;03m# TODO: remove the `na_action=\"ignore\"` when that default has been changed in\u001b[39;00m\n\u001b[1;32m   1505\u001b[0m \u001b[38;5;66;03m#  Categorical (GH51645).\u001b[39;00m\n\u001b[1;32m   1506\u001b[0m action \u001b[38;5;241m=\u001b[39m \u001b[38;5;124m\"\u001b[39m\u001b[38;5;124mignore\u001b[39m\u001b[38;5;124m\"\u001b[39m \u001b[38;5;28;01mif\u001b[39;00m \u001b[38;5;28misinstance\u001b[39m(obj\u001b[38;5;241m.\u001b[39mdtype, CategoricalDtype) \u001b[38;5;28;01melse\u001b[39;00m \u001b[38;5;28;01mNone\u001b[39;00m\n\u001b[0;32m-> 1507\u001b[0m mapped \u001b[38;5;241m=\u001b[39m \u001b[43mobj\u001b[49m\u001b[38;5;241;43m.\u001b[39;49m\u001b[43m_map_values\u001b[49m\u001b[43m(\u001b[49m\n\u001b[1;32m   1508\u001b[0m \u001b[43m    \u001b[49m\u001b[43mmapper\u001b[49m\u001b[38;5;241;43m=\u001b[39;49m\u001b[43mcurried\u001b[49m\u001b[43m,\u001b[49m\u001b[43m \u001b[49m\u001b[43mna_action\u001b[49m\u001b[38;5;241;43m=\u001b[39;49m\u001b[43maction\u001b[49m\u001b[43m,\u001b[49m\u001b[43m \u001b[49m\u001b[43mconvert\u001b[49m\u001b[38;5;241;43m=\u001b[39;49m\u001b[38;5;28;43mself\u001b[39;49m\u001b[38;5;241;43m.\u001b[39;49m\u001b[43mconvert_dtype\u001b[49m\n\u001b[1;32m   1509\u001b[0m \u001b[43m\u001b[49m\u001b[43m)\u001b[49m\n\u001b[1;32m   1511\u001b[0m \u001b[38;5;28;01mif\u001b[39;00m \u001b[38;5;28mlen\u001b[39m(mapped) \u001b[38;5;129;01mand\u001b[39;00m \u001b[38;5;28misinstance\u001b[39m(mapped[\u001b[38;5;241m0\u001b[39m], ABCSeries):\n\u001b[1;32m   1512\u001b[0m     \u001b[38;5;66;03m# GH#43986 Need to do list(mapped) in order to get treated as nested\u001b[39;00m\n\u001b[1;32m   1513\u001b[0m     \u001b[38;5;66;03m#  See also GH#25959 regarding EA support\u001b[39;00m\n\u001b[1;32m   1514\u001b[0m     \u001b[38;5;28;01mreturn\u001b[39;00m obj\u001b[38;5;241m.\u001b[39m_constructor_expanddim(\u001b[38;5;28mlist\u001b[39m(mapped), index\u001b[38;5;241m=\u001b[39mobj\u001b[38;5;241m.\u001b[39mindex)\n",
      "File \u001b[0;32m~/.pyenv/versions/3.10.6/envs/power/lib/python3.10/site-packages/pandas/core/base.py:919\u001b[0m, in \u001b[0;36mIndexOpsMixin._map_values\u001b[0;34m(self, mapper, na_action, convert)\u001b[0m\n\u001b[1;32m    916\u001b[0m arr \u001b[38;5;241m=\u001b[39m \u001b[38;5;28mself\u001b[39m\u001b[38;5;241m.\u001b[39m_values\n\u001b[1;32m    918\u001b[0m \u001b[38;5;28;01mif\u001b[39;00m \u001b[38;5;28misinstance\u001b[39m(arr, ExtensionArray):\n\u001b[0;32m--> 919\u001b[0m     \u001b[38;5;28;01mreturn\u001b[39;00m \u001b[43marr\u001b[49m\u001b[38;5;241;43m.\u001b[39;49m\u001b[43mmap\u001b[49m\u001b[43m(\u001b[49m\u001b[43mmapper\u001b[49m\u001b[43m,\u001b[49m\u001b[43m \u001b[49m\u001b[43mna_action\u001b[49m\u001b[38;5;241;43m=\u001b[39;49m\u001b[43mna_action\u001b[49m\u001b[43m)\u001b[49m\n\u001b[1;32m    921\u001b[0m \u001b[38;5;28;01mreturn\u001b[39;00m algorithms\u001b[38;5;241m.\u001b[39mmap_array(arr, mapper, na_action\u001b[38;5;241m=\u001b[39mna_action, convert\u001b[38;5;241m=\u001b[39mconvert)\n",
      "File \u001b[0;32m~/.pyenv/versions/3.10.6/envs/power/lib/python3.10/site-packages/pandas/core/arrays/_mixins.py:81\u001b[0m, in \u001b[0;36mravel_compat.<locals>.method\u001b[0;34m(self, *args, **kwargs)\u001b[0m\n\u001b[1;32m     78\u001b[0m \u001b[38;5;129m@wraps\u001b[39m(meth)\n\u001b[1;32m     79\u001b[0m \u001b[38;5;28;01mdef\u001b[39;00m \u001b[38;5;21mmethod\u001b[39m(\u001b[38;5;28mself\u001b[39m, \u001b[38;5;241m*\u001b[39margs, \u001b[38;5;241m*\u001b[39m\u001b[38;5;241m*\u001b[39mkwargs):\n\u001b[1;32m     80\u001b[0m     \u001b[38;5;28;01mif\u001b[39;00m \u001b[38;5;28mself\u001b[39m\u001b[38;5;241m.\u001b[39mndim \u001b[38;5;241m==\u001b[39m \u001b[38;5;241m1\u001b[39m:\n\u001b[0;32m---> 81\u001b[0m         \u001b[38;5;28;01mreturn\u001b[39;00m \u001b[43mmeth\u001b[49m\u001b[43m(\u001b[49m\u001b[38;5;28;43mself\u001b[39;49m\u001b[43m,\u001b[49m\u001b[43m \u001b[49m\u001b[38;5;241;43m*\u001b[39;49m\u001b[43margs\u001b[49m\u001b[43m,\u001b[49m\u001b[43m \u001b[49m\u001b[38;5;241;43m*\u001b[39;49m\u001b[38;5;241;43m*\u001b[39;49m\u001b[43mkwargs\u001b[49m\u001b[43m)\u001b[49m\n\u001b[1;32m     83\u001b[0m     flags \u001b[38;5;241m=\u001b[39m \u001b[38;5;28mself\u001b[39m\u001b[38;5;241m.\u001b[39m_ndarray\u001b[38;5;241m.\u001b[39mflags\n\u001b[1;32m     84\u001b[0m     flat \u001b[38;5;241m=\u001b[39m \u001b[38;5;28mself\u001b[39m\u001b[38;5;241m.\u001b[39mravel(\u001b[38;5;124m\"\u001b[39m\u001b[38;5;124mK\u001b[39m\u001b[38;5;124m\"\u001b[39m)\n",
      "File \u001b[0;32m~/.pyenv/versions/3.10.6/envs/power/lib/python3.10/site-packages/pandas/core/arrays/datetimelike.py:738\u001b[0m, in \u001b[0;36mDatetimeLikeArrayMixin.map\u001b[0;34m(self, mapper, na_action)\u001b[0m\n\u001b[1;32m    734\u001b[0m \u001b[38;5;129m@ravel_compat\u001b[39m\n\u001b[1;32m    735\u001b[0m \u001b[38;5;28;01mdef\u001b[39;00m \u001b[38;5;21mmap\u001b[39m(\u001b[38;5;28mself\u001b[39m, mapper, na_action\u001b[38;5;241m=\u001b[39m\u001b[38;5;28;01mNone\u001b[39;00m):\n\u001b[1;32m    736\u001b[0m     \u001b[38;5;28;01mfrom\u001b[39;00m \u001b[38;5;21;01mpandas\u001b[39;00m \u001b[38;5;28;01mimport\u001b[39;00m Index\n\u001b[0;32m--> 738\u001b[0m     result \u001b[38;5;241m=\u001b[39m \u001b[43mmap_array\u001b[49m\u001b[43m(\u001b[49m\u001b[38;5;28;43mself\u001b[39;49m\u001b[43m,\u001b[49m\u001b[43m \u001b[49m\u001b[43mmapper\u001b[49m\u001b[43m,\u001b[49m\u001b[43m \u001b[49m\u001b[43mna_action\u001b[49m\u001b[38;5;241;43m=\u001b[39;49m\u001b[43mna_action\u001b[49m\u001b[43m)\u001b[49m\n\u001b[1;32m    739\u001b[0m     result \u001b[38;5;241m=\u001b[39m Index(result)\n\u001b[1;32m    741\u001b[0m     \u001b[38;5;28;01mif\u001b[39;00m \u001b[38;5;28misinstance\u001b[39m(result, ABCMultiIndex):\n",
      "File \u001b[0;32m~/.pyenv/versions/3.10.6/envs/power/lib/python3.10/site-packages/pandas/core/algorithms.py:1743\u001b[0m, in \u001b[0;36mmap_array\u001b[0;34m(arr, mapper, na_action, convert)\u001b[0m\n\u001b[1;32m   1741\u001b[0m values \u001b[38;5;241m=\u001b[39m arr\u001b[38;5;241m.\u001b[39mastype(\u001b[38;5;28mobject\u001b[39m, copy\u001b[38;5;241m=\u001b[39m\u001b[38;5;28;01mFalse\u001b[39;00m)\n\u001b[1;32m   1742\u001b[0m \u001b[38;5;28;01mif\u001b[39;00m na_action \u001b[38;5;129;01mis\u001b[39;00m \u001b[38;5;28;01mNone\u001b[39;00m:\n\u001b[0;32m-> 1743\u001b[0m     \u001b[38;5;28;01mreturn\u001b[39;00m \u001b[43mlib\u001b[49m\u001b[38;5;241;43m.\u001b[39;49m\u001b[43mmap_infer\u001b[49m\u001b[43m(\u001b[49m\u001b[43mvalues\u001b[49m\u001b[43m,\u001b[49m\u001b[43m \u001b[49m\u001b[43mmapper\u001b[49m\u001b[43m,\u001b[49m\u001b[43m \u001b[49m\u001b[43mconvert\u001b[49m\u001b[38;5;241;43m=\u001b[39;49m\u001b[43mconvert\u001b[49m\u001b[43m)\u001b[49m\n\u001b[1;32m   1744\u001b[0m \u001b[38;5;28;01melse\u001b[39;00m:\n\u001b[1;32m   1745\u001b[0m     \u001b[38;5;28;01mreturn\u001b[39;00m lib\u001b[38;5;241m.\u001b[39mmap_infer_mask(\n\u001b[1;32m   1746\u001b[0m         values, mapper, mask\u001b[38;5;241m=\u001b[39misna(values)\u001b[38;5;241m.\u001b[39mview(np\u001b[38;5;241m.\u001b[39muint8), convert\u001b[38;5;241m=\u001b[39mconvert\n\u001b[1;32m   1747\u001b[0m     )\n",
      "File \u001b[0;32mlib.pyx:2972\u001b[0m, in \u001b[0;36mpandas._libs.lib.map_infer\u001b[0;34m()\u001b[0m\n",
      "File \u001b[0;32m~/.pyenv/versions/3.10.6/envs/power/lib/python3.10/site-packages/pandas/core/apply.py:1496\u001b[0m, in \u001b[0;36mSeriesApply.apply_standard.<locals>.curried\u001b[0;34m(x)\u001b[0m\n\u001b[1;32m   1495\u001b[0m \u001b[38;5;28;01mdef\u001b[39;00m \u001b[38;5;21mcurried\u001b[39m(x):\n\u001b[0;32m-> 1496\u001b[0m     \u001b[38;5;28;01mreturn\u001b[39;00m \u001b[43mfunc\u001b[49m\u001b[43m(\u001b[49m\u001b[43mx\u001b[49m\u001b[43m,\u001b[49m\u001b[43m \u001b[49m\u001b[38;5;241;43m*\u001b[39;49m\u001b[38;5;28;43mself\u001b[39;49m\u001b[38;5;241;43m.\u001b[39;49m\u001b[43margs\u001b[49m\u001b[43m,\u001b[49m\u001b[43m \u001b[49m\u001b[38;5;241;43m*\u001b[39;49m\u001b[38;5;241;43m*\u001b[39;49m\u001b[38;5;28;43mself\u001b[39;49m\u001b[38;5;241;43m.\u001b[39;49m\u001b[43mkwargs\u001b[49m\u001b[43m)\u001b[49m\n",
      "\u001b[0;31mTypeError\u001b[0m: <lambda>() got an unexpected keyword argument 'axis'"
     ]
    }
   ],
   "source": [
    "df_time['forecast dt iso'] = df_time['forecast dt iso'].apply(lambda col: datetime.datetime.strptime(col, \"%Y-%m-%d %H:%M:%S %z %Z\"), axis=0)"
   ]
  },
  {
   "cell_type": "code",
   "execution_count": 122,
   "metadata": {},
   "outputs": [],
   "source": [
    "df.apply(lambda col: col.max(), axis = 0)"
   ]
  },
  {
   "cell_type": "code",
   "execution_count": 118,
   "metadata": {},
   "outputs": [
    {
     "data": {
      "text/plain": [
       "numpy.datetime64('1507334400')"
      ]
     },
     "execution_count": 118,
     "metadata": {},
     "output_type": "execute_result"
    }
   ],
   "source": [
    "x = np.array([1507334400, 1507341600])\n",
    "x = np.datetime64('1507334400')\n",
    "x"
   ]
  },
  {
   "cell_type": "code",
   "execution_count": 100,
   "metadata": {},
   "outputs": [
    {
     "name": "stdout",
     "output_type": "stream",
     "text": [
      "<class 'pandas.core.frame.DataFrame'>\n",
      "RangeIndex: 5060 entries, 0 to 5059\n",
      "Data columns (total 4 columns):\n",
      " #   Column                Non-Null Count  Dtype              \n",
      "---  ------                --------------  -----              \n",
      " 0   forecast dt unixtime  5060 non-null   int32              \n",
      " 1   forecast dt iso       5060 non-null   datetime64[ns, UTC]\n",
      " 2   slice dt unixtime     5060 non-null   int32              \n",
      " 3   slice dt iso          5060 non-null   datetime64[ns, UTC]\n",
      "dtypes: datetime64[ns, UTC](2), int32(2)\n",
      "memory usage: 118.7 KB\n"
     ]
    }
   ],
   "source": [
    "df_time.info()"
   ]
  },
  {
   "cell_type": "code",
   "execution_count": 56,
   "metadata": {},
   "outputs": [
    {
     "data": {
      "text/plain": [
       "20"
      ]
     },
     "execution_count": 56,
     "metadata": {},
     "output_type": "execute_result"
    }
   ],
   "source": [
    "df_time['forecast dt iso'].nunique()"
   ]
  },
  {
   "cell_type": "code",
   "execution_count": null,
   "metadata": {},
   "outputs": [],
   "source": []
  },
  {
   "cell_type": "code",
   "execution_count": 124,
   "metadata": {},
   "outputs": [
    {
     "data": {
      "text/html": [
       "<div>\n",
       "<style scoped>\n",
       "    .dataframe tbody tr th:only-of-type {\n",
       "        vertical-align: middle;\n",
       "    }\n",
       "\n",
       "    .dataframe tbody tr th {\n",
       "        vertical-align: top;\n",
       "    }\n",
       "\n",
       "    .dataframe thead th {\n",
       "        text-align: right;\n",
       "    }\n",
       "</style>\n",
       "<table border=\"1\" class=\"dataframe\">\n",
       "  <thead>\n",
       "    <tr style=\"text-align: right;\">\n",
       "      <th></th>\n",
       "      <th>forecast dt unixtime</th>\n",
       "      <th>forecast dt iso</th>\n",
       "      <th>slice dt unixtime</th>\n",
       "      <th>slice dt iso</th>\n",
       "    </tr>\n",
       "  </thead>\n",
       "  <tbody>\n",
       "  </tbody>\n",
       "</table>\n",
       "</div>"
      ],
      "text/plain": [
       "Empty DataFrame\n",
       "Columns: [forecast dt unixtime, forecast dt iso, slice dt unixtime, slice dt iso]\n",
       "Index: []"
      ]
     },
     "execution_count": 124,
     "metadata": {},
     "output_type": "execute_result"
    }
   ],
   "source": [
    "df_time.filter(like='12:00:00 +0000 UTC', axis = 0)"
   ]
  },
  {
   "cell_type": "code",
   "execution_count": 57,
   "metadata": {},
   "outputs": [
    {
     "data": {
      "text/plain": [
       "forecast dt iso\n",
       "2017-10-07 00:00:00 +0000 UTC    253\n",
       "2017-10-07 06:00:00 +0000 UTC    253\n",
       "2017-10-11 12:00:00 +0000 UTC    253\n",
       "2017-10-11 06:00:00 +0000 UTC    253\n",
       "2017-10-11 00:00:00 +0000 UTC    253\n",
       "2017-10-10 18:00:00 +0000 UTC    253\n",
       "2017-10-10 12:00:00 +0000 UTC    253\n",
       "2017-10-10 06:00:00 +0000 UTC    253\n",
       "2017-10-10 00:00:00 +0000 UTC    253\n",
       "2017-10-09 18:00:00 +0000 UTC    253\n",
       "2017-10-09 12:00:00 +0000 UTC    253\n",
       "2017-10-09 06:00:00 +0000 UTC    253\n",
       "2017-10-09 00:00:00 +0000 UTC    253\n",
       "2017-10-08 18:00:00 +0000 UTC    253\n",
       "2017-10-08 12:00:00 +0000 UTC    253\n",
       "2017-10-08 06:00:00 +0000 UTC    253\n",
       "2017-10-08 00:00:00 +0000 UTC    253\n",
       "2017-10-07 18:00:00 +0000 UTC    253\n",
       "2017-10-07 12:00:00 +0000 UTC    253\n",
       "2017-10-11 18:00:00 +0000 UTC    253\n",
       "Name: count, dtype: int64"
      ]
     },
     "execution_count": 57,
     "metadata": {},
     "output_type": "execute_result"
    }
   ],
   "source": [
    "df_time['forecast dt iso']"
   ]
  },
  {
   "cell_type": "code",
   "execution_count": 58,
   "metadata": {},
   "outputs": [
    {
     "data": {
      "text/plain": [
       "slice dt iso\n",
       "2017-10-14 21:00:00 +0000 UTC    20\n",
       "2017-10-12 00:00:00 +0000 UTC    20\n",
       "2017-10-13 08:00:00 +0000 UTC    20\n",
       "2017-10-13 09:00:00 +0000 UTC    20\n",
       "2017-10-13 10:00:00 +0000 UTC    20\n",
       "                                 ..\n",
       "2017-10-07 05:00:00 +0000 UTC     1\n",
       "2017-10-07 04:00:00 +0000 UTC     1\n",
       "2017-10-07 03:00:00 +0000 UTC     1\n",
       "2017-10-07 02:00:00 +0000 UTC     1\n",
       "2017-10-27 18:00:00 +0000 UTC     1\n",
       "Name: count, Length: 379, dtype: int64"
      ]
     },
     "execution_count": 58,
     "metadata": {},
     "output_type": "execute_result"
    }
   ],
   "source": [
    "df_time['slice dt iso'].value_counts()"
   ]
  },
  {
   "cell_type": "code",
   "execution_count": 77,
   "metadata": {},
   "outputs": [
    {
     "data": {
      "text/plain": [
       "12    2017-10-12 00:00:00 +0000 UTC\n",
       "13    2017-10-12 01:00:00 +0000 UTC\n",
       "14    2017-10-12 02:00:00 +0000 UTC\n",
       "15    2017-10-12 03:00:00 +0000 UTC\n",
       "16    2017-10-12 04:00:00 +0000 UTC\n",
       "17    2017-10-12 05:00:00 +0000 UTC\n",
       "18    2017-10-12 06:00:00 +0000 UTC\n",
       "19    2017-10-12 07:00:00 +0000 UTC\n",
       "20    2017-10-12 08:00:00 +0000 UTC\n",
       "21    2017-10-12 09:00:00 +0000 UTC\n",
       "22    2017-10-12 10:00:00 +0000 UTC\n",
       "23    2017-10-12 11:00:00 +0000 UTC\n",
       "24    2017-10-12 12:00:00 +0000 UTC\n",
       "25    2017-10-12 13:00:00 +0000 UTC\n",
       "26    2017-10-12 14:00:00 +0000 UTC\n",
       "27    2017-10-12 15:00:00 +0000 UTC\n",
       "28    2017-10-12 16:00:00 +0000 UTC\n",
       "29    2017-10-12 17:00:00 +0000 UTC\n",
       "30    2017-10-12 18:00:00 +0000 UTC\n",
       "31    2017-10-12 19:00:00 +0000 UTC\n",
       "32    2017-10-12 20:00:00 +0000 UTC\n",
       "33    2017-10-12 21:00:00 +0000 UTC\n",
       "34    2017-10-12 22:00:00 +0000 UTC\n",
       "35    2017-10-12 23:00:00 +0000 UTC\n",
       "Name: slice dt iso, dtype: object"
      ]
     },
     "execution_count": 77,
     "metadata": {},
     "output_type": "execute_result"
    }
   ],
   "source": [
    "df_one_day = df_time[df_time['forecast dt iso'] == '2017-10-11 12:00:00 +0000 UTC'].reset_index()\n",
    "df_one_day['slice dt iso'][12:36]"
   ]
  },
  {
   "cell_type": "code",
   "execution_count": 78,
   "metadata": {},
   "outputs": [
    {
     "data": {
      "text/plain": [
       "'2017-10-11 12:00:00 +0000 UTC'"
      ]
     },
     "execution_count": 78,
     "metadata": {},
     "output_type": "execute_result"
    }
   ],
   "source": [
    "df_one_day['forecast dt iso']"
   ]
  },
  {
   "cell_type": "code",
   "execution_count": 108,
   "metadata": {},
   "outputs": [
    {
     "data": {
      "text/html": [
       "<div>\n",
       "<style scoped>\n",
       "    .dataframe tbody tr th:only-of-type {\n",
       "        vertical-align: middle;\n",
       "    }\n",
       "\n",
       "    .dataframe tbody tr th {\n",
       "        vertical-align: top;\n",
       "    }\n",
       "\n",
       "    .dataframe thead th {\n",
       "        text-align: right;\n",
       "    }\n",
       "</style>\n",
       "<table border=\"1\" class=\"dataframe\">\n",
       "  <thead>\n",
       "    <tr style=\"text-align: right;\">\n",
       "      <th></th>\n",
       "      <th>index</th>\n",
       "      <th>forecast dt unixtime</th>\n",
       "      <th>forecast dt iso</th>\n",
       "      <th>slice dt unixtime</th>\n",
       "      <th>slice dt iso</th>\n",
       "    </tr>\n",
       "  </thead>\n",
       "  <tbody>\n",
       "    <tr>\n",
       "      <th>0</th>\n",
       "      <td>4554</td>\n",
       "      <td>1507723200</td>\n",
       "      <td>2017-10-11 12:00:00 +0000 UTC</td>\n",
       "      <td>1507723200</td>\n",
       "      <td>2017-10-11 12:00:00 +0000 UTC</td>\n",
       "    </tr>\n",
       "    <tr>\n",
       "      <th>1</th>\n",
       "      <td>4555</td>\n",
       "      <td>1507723200</td>\n",
       "      <td>2017-10-11 12:00:00 +0000 UTC</td>\n",
       "      <td>1507726800</td>\n",
       "      <td>2017-10-11 13:00:00 +0000 UTC</td>\n",
       "    </tr>\n",
       "    <tr>\n",
       "      <th>2</th>\n",
       "      <td>4556</td>\n",
       "      <td>1507723200</td>\n",
       "      <td>2017-10-11 12:00:00 +0000 UTC</td>\n",
       "      <td>1507730400</td>\n",
       "      <td>2017-10-11 14:00:00 +0000 UTC</td>\n",
       "    </tr>\n",
       "    <tr>\n",
       "      <th>3</th>\n",
       "      <td>4557</td>\n",
       "      <td>1507723200</td>\n",
       "      <td>2017-10-11 12:00:00 +0000 UTC</td>\n",
       "      <td>1507734000</td>\n",
       "      <td>2017-10-11 15:00:00 +0000 UTC</td>\n",
       "    </tr>\n",
       "    <tr>\n",
       "      <th>4</th>\n",
       "      <td>4558</td>\n",
       "      <td>1507723200</td>\n",
       "      <td>2017-10-11 12:00:00 +0000 UTC</td>\n",
       "      <td>1507737600</td>\n",
       "      <td>2017-10-11 16:00:00 +0000 UTC</td>\n",
       "    </tr>\n",
       "    <tr>\n",
       "      <th>...</th>\n",
       "      <td>...</td>\n",
       "      <td>...</td>\n",
       "      <td>...</td>\n",
       "      <td>...</td>\n",
       "      <td>...</td>\n",
       "    </tr>\n",
       "    <tr>\n",
       "      <th>248</th>\n",
       "      <td>4802</td>\n",
       "      <td>1507723200</td>\n",
       "      <td>2017-10-11 12:00:00 +0000 UTC</td>\n",
       "      <td>1508932800</td>\n",
       "      <td>2017-10-25 12:00:00 +0000 UTC</td>\n",
       "    </tr>\n",
       "    <tr>\n",
       "      <th>249</th>\n",
       "      <td>4803</td>\n",
       "      <td>1507723200</td>\n",
       "      <td>2017-10-11 12:00:00 +0000 UTC</td>\n",
       "      <td>1508976000</td>\n",
       "      <td>2017-10-26 00:00:00 +0000 UTC</td>\n",
       "    </tr>\n",
       "    <tr>\n",
       "      <th>250</th>\n",
       "      <td>4804</td>\n",
       "      <td>1507723200</td>\n",
       "      <td>2017-10-11 12:00:00 +0000 UTC</td>\n",
       "      <td>1509019200</td>\n",
       "      <td>2017-10-26 12:00:00 +0000 UTC</td>\n",
       "    </tr>\n",
       "    <tr>\n",
       "      <th>251</th>\n",
       "      <td>4805</td>\n",
       "      <td>1507723200</td>\n",
       "      <td>2017-10-11 12:00:00 +0000 UTC</td>\n",
       "      <td>1509062400</td>\n",
       "      <td>2017-10-27 00:00:00 +0000 UTC</td>\n",
       "    </tr>\n",
       "    <tr>\n",
       "      <th>252</th>\n",
       "      <td>4806</td>\n",
       "      <td>1507723200</td>\n",
       "      <td>2017-10-11 12:00:00 +0000 UTC</td>\n",
       "      <td>1509105600</td>\n",
       "      <td>2017-10-27 12:00:00 +0000 UTC</td>\n",
       "    </tr>\n",
       "  </tbody>\n",
       "</table>\n",
       "<p>253 rows × 5 columns</p>\n",
       "</div>"
      ],
      "text/plain": [
       "     index  forecast dt unixtime                forecast dt iso  \\\n",
       "0     4554            1507723200  2017-10-11 12:00:00 +0000 UTC   \n",
       "1     4555            1507723200  2017-10-11 12:00:00 +0000 UTC   \n",
       "2     4556            1507723200  2017-10-11 12:00:00 +0000 UTC   \n",
       "3     4557            1507723200  2017-10-11 12:00:00 +0000 UTC   \n",
       "4     4558            1507723200  2017-10-11 12:00:00 +0000 UTC   \n",
       "..     ...                   ...                            ...   \n",
       "248   4802            1507723200  2017-10-11 12:00:00 +0000 UTC   \n",
       "249   4803            1507723200  2017-10-11 12:00:00 +0000 UTC   \n",
       "250   4804            1507723200  2017-10-11 12:00:00 +0000 UTC   \n",
       "251   4805            1507723200  2017-10-11 12:00:00 +0000 UTC   \n",
       "252   4806            1507723200  2017-10-11 12:00:00 +0000 UTC   \n",
       "\n",
       "     slice dt unixtime                   slice dt iso  \n",
       "0           1507723200  2017-10-11 12:00:00 +0000 UTC  \n",
       "1           1507726800  2017-10-11 13:00:00 +0000 UTC  \n",
       "2           1507730400  2017-10-11 14:00:00 +0000 UTC  \n",
       "3           1507734000  2017-10-11 15:00:00 +0000 UTC  \n",
       "4           1507737600  2017-10-11 16:00:00 +0000 UTC  \n",
       "..                 ...                            ...  \n",
       "248         1508932800  2017-10-25 12:00:00 +0000 UTC  \n",
       "249         1508976000  2017-10-26 00:00:00 +0000 UTC  \n",
       "250         1509019200  2017-10-26 12:00:00 +0000 UTC  \n",
       "251         1509062400  2017-10-27 00:00:00 +0000 UTC  \n",
       "252         1509105600  2017-10-27 12:00:00 +0000 UTC  \n",
       "\n",
       "[253 rows x 5 columns]"
      ]
     },
     "execution_count": 108,
     "metadata": {},
     "output_type": "execute_result"
    }
   ],
   "source": [
    "df_one_day"
   ]
  },
  {
   "cell_type": "code",
   "execution_count": 109,
   "metadata": {},
   "outputs": [
    {
     "data": {
      "text/plain": [
       "numpy.datetime64('1507723200')"
      ]
     },
     "execution_count": 109,
     "metadata": {},
     "output_type": "execute_result"
    }
   ],
   "source": [
    "np.('1507723200')"
   ]
  },
  {
   "cell_type": "code",
   "execution_count": 79,
   "metadata": {},
   "outputs": [
    {
     "name": "stderr",
     "output_type": "stream",
     "text": [
      "/tmp/ipykernel_100728/2665803446.py:1: UserWarning: Could not infer format, so each element will be parsed individually, falling back to `dateutil`. To ensure parsing is consistent and as-expected, please specify a format.\n",
      "  pd.to_datetime(['2017-10-11 12:00:00 +0000 UTC', '2017-10-11 12:00:00 +0000 UTC'],\n"
     ]
    },
    {
     "ename": "DateParseError",
     "evalue": "Unknown datetime string format, unable to parse: 2017-10-11 12:00:00 +0000 UTC, at position 0",
     "output_type": "error",
     "traceback": [
      "\u001b[0;31m---------------------------------------------------------------------------\u001b[0m",
      "\u001b[0;31mDateParseError\u001b[0m                            Traceback (most recent call last)",
      "Cell \u001b[0;32mIn[79], line 1\u001b[0m\n\u001b[0;32m----> 1\u001b[0m \u001b[43mpd\u001b[49m\u001b[38;5;241;43m.\u001b[39;49m\u001b[43mto_datetime\u001b[49m\u001b[43m(\u001b[49m\u001b[43m[\u001b[49m\u001b[38;5;124;43m'\u001b[39;49m\u001b[38;5;124;43m2017-10-11 12:00:00 +0000 UTC\u001b[39;49m\u001b[38;5;124;43m'\u001b[39;49m\u001b[43m,\u001b[49m\u001b[43m \u001b[49m\u001b[38;5;124;43m'\u001b[39;49m\u001b[38;5;124;43m2017-10-11 12:00:00 +0000 UTC\u001b[39;49m\u001b[38;5;124;43m'\u001b[39;49m\u001b[43m]\u001b[49m\u001b[43m,\u001b[49m\n\u001b[1;32m      2\u001b[0m \u001b[43m               \u001b[49m\u001b[43mutc\u001b[49m\u001b[38;5;241;43m=\u001b[39;49m\u001b[38;5;28;43;01mTrue\u001b[39;49;00m\u001b[43m)\u001b[49m\n",
      "File \u001b[0;32m~/.pyenv/versions/3.10.6/envs/power/lib/python3.10/site-packages/pandas/core/tools/datetimes.py:1099\u001b[0m, in \u001b[0;36mto_datetime\u001b[0;34m(arg, errors, dayfirst, yearfirst, utc, format, exact, unit, infer_datetime_format, origin, cache)\u001b[0m\n\u001b[1;32m   1097\u001b[0m         result \u001b[38;5;241m=\u001b[39m _convert_and_box_cache(argc, cache_array)\n\u001b[1;32m   1098\u001b[0m     \u001b[38;5;28;01melse\u001b[39;00m:\n\u001b[0;32m-> 1099\u001b[0m         result \u001b[38;5;241m=\u001b[39m \u001b[43mconvert_listlike\u001b[49m\u001b[43m(\u001b[49m\u001b[43margc\u001b[49m\u001b[43m,\u001b[49m\u001b[43m \u001b[49m\u001b[38;5;28;43mformat\u001b[39;49m\u001b[43m)\u001b[49m\n\u001b[1;32m   1100\u001b[0m \u001b[38;5;28;01melse\u001b[39;00m:\n\u001b[1;32m   1101\u001b[0m     result \u001b[38;5;241m=\u001b[39m convert_listlike(np\u001b[38;5;241m.\u001b[39marray([arg]), \u001b[38;5;28mformat\u001b[39m)[\u001b[38;5;241m0\u001b[39m]\n",
      "File \u001b[0;32m~/.pyenv/versions/3.10.6/envs/power/lib/python3.10/site-packages/pandas/core/tools/datetimes.py:435\u001b[0m, in \u001b[0;36m_convert_listlike_datetimes\u001b[0;34m(arg, format, name, utc, unit, errors, dayfirst, yearfirst, exact)\u001b[0m\n\u001b[1;32m    432\u001b[0m \u001b[38;5;28;01mif\u001b[39;00m \u001b[38;5;28mformat\u001b[39m \u001b[38;5;129;01mis\u001b[39;00m \u001b[38;5;129;01mnot\u001b[39;00m \u001b[38;5;28;01mNone\u001b[39;00m \u001b[38;5;129;01mand\u001b[39;00m \u001b[38;5;28mformat\u001b[39m \u001b[38;5;241m!=\u001b[39m \u001b[38;5;124m\"\u001b[39m\u001b[38;5;124mmixed\u001b[39m\u001b[38;5;124m\"\u001b[39m:\n\u001b[1;32m    433\u001b[0m     \u001b[38;5;28;01mreturn\u001b[39;00m _array_strptime_with_fallback(arg, name, utc, \u001b[38;5;28mformat\u001b[39m, exact, errors)\n\u001b[0;32m--> 435\u001b[0m result, tz_parsed \u001b[38;5;241m=\u001b[39m \u001b[43mobjects_to_datetime64\u001b[49m\u001b[43m(\u001b[49m\n\u001b[1;32m    436\u001b[0m \u001b[43m    \u001b[49m\u001b[43marg\u001b[49m\u001b[43m,\u001b[49m\n\u001b[1;32m    437\u001b[0m \u001b[43m    \u001b[49m\u001b[43mdayfirst\u001b[49m\u001b[38;5;241;43m=\u001b[39;49m\u001b[43mdayfirst\u001b[49m\u001b[43m,\u001b[49m\n\u001b[1;32m    438\u001b[0m \u001b[43m    \u001b[49m\u001b[43myearfirst\u001b[49m\u001b[38;5;241;43m=\u001b[39;49m\u001b[43myearfirst\u001b[49m\u001b[43m,\u001b[49m\n\u001b[1;32m    439\u001b[0m \u001b[43m    \u001b[49m\u001b[43mutc\u001b[49m\u001b[38;5;241;43m=\u001b[39;49m\u001b[43mutc\u001b[49m\u001b[43m,\u001b[49m\n\u001b[1;32m    440\u001b[0m \u001b[43m    \u001b[49m\u001b[43merrors\u001b[49m\u001b[38;5;241;43m=\u001b[39;49m\u001b[43merrors\u001b[49m\u001b[43m,\u001b[49m\n\u001b[1;32m    441\u001b[0m \u001b[43m    \u001b[49m\u001b[43mallow_object\u001b[49m\u001b[38;5;241;43m=\u001b[39;49m\u001b[38;5;28;43;01mTrue\u001b[39;49;00m\u001b[43m,\u001b[49m\n\u001b[1;32m    442\u001b[0m \u001b[43m\u001b[49m\u001b[43m)\u001b[49m\n\u001b[1;32m    444\u001b[0m \u001b[38;5;28;01mif\u001b[39;00m tz_parsed \u001b[38;5;129;01mis\u001b[39;00m \u001b[38;5;129;01mnot\u001b[39;00m \u001b[38;5;28;01mNone\u001b[39;00m:\n\u001b[1;32m    445\u001b[0m     \u001b[38;5;66;03m# We can take a shortcut since the datetime64 numpy array\u001b[39;00m\n\u001b[1;32m    446\u001b[0m     \u001b[38;5;66;03m# is in UTC\u001b[39;00m\n\u001b[1;32m    447\u001b[0m     out_unit \u001b[38;5;241m=\u001b[39m np\u001b[38;5;241m.\u001b[39mdatetime_data(result\u001b[38;5;241m.\u001b[39mdtype)[\u001b[38;5;241m0\u001b[39m]\n",
      "File \u001b[0;32m~/.pyenv/versions/3.10.6/envs/power/lib/python3.10/site-packages/pandas/core/arrays/datetimes.py:2398\u001b[0m, in \u001b[0;36mobjects_to_datetime64\u001b[0;34m(data, dayfirst, yearfirst, utc, errors, allow_object, out_unit)\u001b[0m\n\u001b[1;32m   2395\u001b[0m \u001b[38;5;66;03m# if str-dtype, convert\u001b[39;00m\n\u001b[1;32m   2396\u001b[0m data \u001b[38;5;241m=\u001b[39m np\u001b[38;5;241m.\u001b[39marray(data, copy\u001b[38;5;241m=\u001b[39m\u001b[38;5;28;01mFalse\u001b[39;00m, dtype\u001b[38;5;241m=\u001b[39mnp\u001b[38;5;241m.\u001b[39mobject_)\n\u001b[0;32m-> 2398\u001b[0m result, tz_parsed \u001b[38;5;241m=\u001b[39m \u001b[43mtslib\u001b[49m\u001b[38;5;241;43m.\u001b[39;49m\u001b[43marray_to_datetime\u001b[49m\u001b[43m(\u001b[49m\n\u001b[1;32m   2399\u001b[0m \u001b[43m    \u001b[49m\u001b[43mdata\u001b[49m\u001b[43m,\u001b[49m\n\u001b[1;32m   2400\u001b[0m \u001b[43m    \u001b[49m\u001b[43merrors\u001b[49m\u001b[38;5;241;43m=\u001b[39;49m\u001b[43merrors\u001b[49m\u001b[43m,\u001b[49m\n\u001b[1;32m   2401\u001b[0m \u001b[43m    \u001b[49m\u001b[43mutc\u001b[49m\u001b[38;5;241;43m=\u001b[39;49m\u001b[43mutc\u001b[49m\u001b[43m,\u001b[49m\n\u001b[1;32m   2402\u001b[0m \u001b[43m    \u001b[49m\u001b[43mdayfirst\u001b[49m\u001b[38;5;241;43m=\u001b[39;49m\u001b[43mdayfirst\u001b[49m\u001b[43m,\u001b[49m\n\u001b[1;32m   2403\u001b[0m \u001b[43m    \u001b[49m\u001b[43myearfirst\u001b[49m\u001b[38;5;241;43m=\u001b[39;49m\u001b[43myearfirst\u001b[49m\u001b[43m,\u001b[49m\n\u001b[1;32m   2404\u001b[0m \u001b[43m    \u001b[49m\u001b[43mcreso\u001b[49m\u001b[38;5;241;43m=\u001b[39;49m\u001b[43mabbrev_to_npy_unit\u001b[49m\u001b[43m(\u001b[49m\u001b[43mout_unit\u001b[49m\u001b[43m)\u001b[49m\u001b[43m,\u001b[49m\n\u001b[1;32m   2405\u001b[0m \u001b[43m\u001b[49m\u001b[43m)\u001b[49m\n\u001b[1;32m   2407\u001b[0m \u001b[38;5;28;01mif\u001b[39;00m tz_parsed \u001b[38;5;129;01mis\u001b[39;00m \u001b[38;5;129;01mnot\u001b[39;00m \u001b[38;5;28;01mNone\u001b[39;00m:\n\u001b[1;32m   2408\u001b[0m     \u001b[38;5;66;03m# We can take a shortcut since the datetime64 numpy array\u001b[39;00m\n\u001b[1;32m   2409\u001b[0m     \u001b[38;5;66;03m#  is in UTC\u001b[39;00m\n\u001b[1;32m   2410\u001b[0m     \u001b[38;5;28;01mreturn\u001b[39;00m result, tz_parsed\n",
      "File \u001b[0;32mtslib.pyx:414\u001b[0m, in \u001b[0;36mpandas._libs.tslib.array_to_datetime\u001b[0;34m()\u001b[0m\n",
      "File \u001b[0;32mtslib.pyx:596\u001b[0m, in \u001b[0;36mpandas._libs.tslib.array_to_datetime\u001b[0;34m()\u001b[0m\n",
      "File \u001b[0;32mtslib.pyx:553\u001b[0m, in \u001b[0;36mpandas._libs.tslib.array_to_datetime\u001b[0;34m()\u001b[0m\n",
      "File \u001b[0;32mconversion.pyx:641\u001b[0m, in \u001b[0;36mpandas._libs.tslibs.conversion.convert_str_to_tsobject\u001b[0;34m()\u001b[0m\n",
      "File \u001b[0;32mparsing.pyx:336\u001b[0m, in \u001b[0;36mpandas._libs.tslibs.parsing.parse_datetime_string\u001b[0;34m()\u001b[0m\n",
      "File \u001b[0;32mparsing.pyx:666\u001b[0m, in \u001b[0;36mpandas._libs.tslibs.parsing.dateutil_parse\u001b[0;34m()\u001b[0m\n",
      "\u001b[0;31mDateParseError\u001b[0m: Unknown datetime string format, unable to parse: 2017-10-11 12:00:00 +0000 UTC, at position 0"
     ]
    }
   ],
   "source": [
    "pd.to_datetime(['2017-10-11 12:00:00 +0000 UTC', '2017-10-11 12:00:00 +0000 UTC'],\n",
    "               utc=True)"
   ]
  },
  {
   "cell_type": "code",
   "execution_count": 90,
   "metadata": {},
   "outputs": [
    {
     "data": {
      "text/plain": [
       "datetime.datetime(2017, 10, 11, 12, 0, tzinfo=datetime.timezone(datetime.timedelta(0), 'UTC'))"
      ]
     },
     "execution_count": 90,
     "metadata": {},
     "output_type": "execute_result"
    }
   ],
   "source": [
    "datetime.datetime.strptime('2017-10-11 12:00:00 +0000 UTC', '%Y-%m-%d %H:%M:%S %z %Z')"
   ]
  },
  {
   "cell_type": "code",
   "execution_count": 85,
   "metadata": {},
   "outputs": [
    {
     "data": {
      "text/html": [
       "<div>\n",
       "<style scoped>\n",
       "    .dataframe tbody tr th:only-of-type {\n",
       "        vertical-align: middle;\n",
       "    }\n",
       "\n",
       "    .dataframe tbody tr th {\n",
       "        vertical-align: top;\n",
       "    }\n",
       "\n",
       "    .dataframe thead th {\n",
       "        text-align: right;\n",
       "    }\n",
       "</style>\n",
       "<table border=\"1\" class=\"dataframe\">\n",
       "  <thead>\n",
       "    <tr style=\"text-align: right;\">\n",
       "      <th></th>\n",
       "      <th>index</th>\n",
       "      <th>forecast dt unixtime</th>\n",
       "      <th>forecast dt iso</th>\n",
       "      <th>slice dt unixtime</th>\n",
       "      <th>slice dt iso</th>\n",
       "    </tr>\n",
       "  </thead>\n",
       "  <tbody>\n",
       "    <tr>\n",
       "      <th>0</th>\n",
       "      <td>4554</td>\n",
       "      <td>1507723200</td>\n",
       "      <td>2017-10-11 12:00:00 +0000 UTC</td>\n",
       "      <td>1507723200</td>\n",
       "      <td>2017-10-11 12:00:00 +0000 UTC</td>\n",
       "    </tr>\n",
       "    <tr>\n",
       "      <th>1</th>\n",
       "      <td>4555</td>\n",
       "      <td>1507723200</td>\n",
       "      <td>2017-10-11 12:00:00 +0000 UTC</td>\n",
       "      <td>1507726800</td>\n",
       "      <td>2017-10-11 13:00:00 +0000 UTC</td>\n",
       "    </tr>\n",
       "    <tr>\n",
       "      <th>2</th>\n",
       "      <td>4556</td>\n",
       "      <td>1507723200</td>\n",
       "      <td>2017-10-11 12:00:00 +0000 UTC</td>\n",
       "      <td>1507730400</td>\n",
       "      <td>2017-10-11 14:00:00 +0000 UTC</td>\n",
       "    </tr>\n",
       "    <tr>\n",
       "      <th>3</th>\n",
       "      <td>4557</td>\n",
       "      <td>1507723200</td>\n",
       "      <td>2017-10-11 12:00:00 +0000 UTC</td>\n",
       "      <td>1507734000</td>\n",
       "      <td>2017-10-11 15:00:00 +0000 UTC</td>\n",
       "    </tr>\n",
       "    <tr>\n",
       "      <th>4</th>\n",
       "      <td>4558</td>\n",
       "      <td>1507723200</td>\n",
       "      <td>2017-10-11 12:00:00 +0000 UTC</td>\n",
       "      <td>1507737600</td>\n",
       "      <td>2017-10-11 16:00:00 +0000 UTC</td>\n",
       "    </tr>\n",
       "  </tbody>\n",
       "</table>\n",
       "</div>"
      ],
      "text/plain": [
       "   index  forecast dt unixtime                forecast dt iso  \\\n",
       "0   4554            1507723200  2017-10-11 12:00:00 +0000 UTC   \n",
       "1   4555            1507723200  2017-10-11 12:00:00 +0000 UTC   \n",
       "2   4556            1507723200  2017-10-11 12:00:00 +0000 UTC   \n",
       "3   4557            1507723200  2017-10-11 12:00:00 +0000 UTC   \n",
       "4   4558            1507723200  2017-10-11 12:00:00 +0000 UTC   \n",
       "\n",
       "   slice dt unixtime                   slice dt iso  \n",
       "0         1507723200  2017-10-11 12:00:00 +0000 UTC  \n",
       "1         1507726800  2017-10-11 13:00:00 +0000 UTC  \n",
       "2         1507730400  2017-10-11 14:00:00 +0000 UTC  \n",
       "3         1507734000  2017-10-11 15:00:00 +0000 UTC  \n",
       "4         1507737600  2017-10-11 16:00:00 +0000 UTC  "
      ]
     },
     "execution_count": 85,
     "metadata": {},
     "output_type": "execute_result"
    }
   ],
   "source": [
    "df_one_day.head()"
   ]
  },
  {
   "cell_type": "code",
   "execution_count": 87,
   "metadata": {},
   "outputs": [
    {
     "data": {
      "text/plain": [
       "'2017-10-11 12:00:00 +0000 UTC'"
      ]
     },
     "execution_count": 87,
     "metadata": {},
     "output_type": "execute_result"
    }
   ],
   "source": [
    "df_one_day['forecast dt iso'][0]"
   ]
  },
  {
   "cell_type": "code",
   "execution_count": 92,
   "metadata": {},
   "outputs": [
    {
     "data": {
      "text/plain": [
       "0     2017-10-11 12:00:00+00:00\n",
       "1     2017-10-11 12:00:00+00:00\n",
       "2     2017-10-11 12:00:00+00:00\n",
       "3     2017-10-11 12:00:00+00:00\n",
       "4     2017-10-11 12:00:00+00:00\n",
       "                 ...           \n",
       "248   2017-10-11 12:00:00+00:00\n",
       "249   2017-10-11 12:00:00+00:00\n",
       "250   2017-10-11 12:00:00+00:00\n",
       "251   2017-10-11 12:00:00+00:00\n",
       "252   2017-10-11 12:00:00+00:00\n",
       "Name: forecast dt iso, Length: 253, dtype: datetime64[ns, UTC]"
      ]
     },
     "execution_count": 92,
     "metadata": {},
     "output_type": "execute_result"
    }
   ],
   "source": [
    "df_one_day['forecast dt iso'].apply(lambda row: datetime.datetime.strptime(row, \"%Y-%m-%d %H:%M:%S %z %Z\"))"
   ]
  }
 ],
 "metadata": {
  "kernelspec": {
   "display_name": "power",
   "language": "python",
   "name": "python3"
  },
  "language_info": {
   "codemirror_mode": {
    "name": "ipython",
    "version": 3
   },
   "file_extension": ".py",
   "mimetype": "text/x-python",
   "name": "python",
   "nbconvert_exporter": "python",
   "pygments_lexer": "ipython3",
   "version": "3.10.6"
  }
 },
 "nbformat": 4,
 "nbformat_minor": 2
}
