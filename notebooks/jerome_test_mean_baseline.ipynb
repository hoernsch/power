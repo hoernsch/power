{
 "cells": [
  {
   "cell_type": "code",
   "execution_count": 1,
   "metadata": {},
   "outputs": [
    {
     "name": "stderr",
     "output_type": "stream",
     "text": [
      "2024-03-14 11:07:17.214849: I tensorflow/tsl/cuda/cudart_stub.cc:28] Could not find cuda drivers on your machine, GPU will not be used.\n",
      "2024-03-14 11:07:17.292302: I tensorflow/tsl/cuda/cudart_stub.cc:28] Could not find cuda drivers on your machine, GPU will not be used.\n",
      "2024-03-14 11:07:17.293439: I tensorflow/core/platform/cpu_feature_guard.cc:182] This TensorFlow binary is optimized to use available CPU instructions in performance-critical operations.\n",
      "To enable the following instructions: AVX2 FMA, in other operations, rebuild TensorFlow with the appropriate compiler flags.\n",
      "2024-03-14 11:07:19.264123: W tensorflow/compiler/tf2tensorrt/utils/py_utils.cc:38] TF-TRT Warning: Could not find TensorRT\n"
     ]
    }
   ],
   "source": [
    "import pandas as pd\n",
    "from fastapi import FastAPI\n",
    "from fastapi.middleware.cors import CORSMiddleware\n",
    "from power.ml_ops.data import get_data_with_cache, get_stats_table, postprocess\n",
    "from power.ml_ops.registry import load_model\n",
    "from power.ml_ops.model import evaluate_model\n",
    "from power.ml_ops.cross_val import get_X_y_seq\n",
    "from power.interface.main import pred #, postprocess\n",
    "\n",
    "from pathlib import Path\n",
    "from power.params import *\n",
    "from power.utils import compress\n",
    "\n",
    "import datetime\n",
    "import tensorflow as tf"
   ]
  },
  {
   "cell_type": "code",
   "execution_count": null,
   "metadata": {},
   "outputs": [],
   "source": [
    "max_date = '2019-12-31 23:00:00'\n",
    "model = load_model()\n",
    "\n",
    "query = f\"\"\"\n",
    "    SELECT *\n",
    "    FROM {GCP_PROJECT}.{BQ_DATASET}.processed_pv\n",
    "    ORDER BY utc_time\n",
    "\"\"\"\n",
    "\n",
    "data_processed_cache_path = Path(LOCAL_DATA_PATH).joinpath(\"processed\", f\"processed_pv.csv\")\n",
    "data_processed = get_data_with_cache(\n",
    "    gcp_project=GCP_PROJECT,\n",
    "    query=query,\n",
    "    cache_path=data_processed_cache_path,\n",
    "    data_has_header=True\n",
    ")\n",
    "\n",
    "if data_processed.shape[0] == 0:\n",
    "    print(\"❌ No data to evaluate on\")\n",
    "    # return None\n",
    "\n",
    "test = data_processed[data_processed['utc_time'] >= max_date]\n",
    "test = test[['electricity']]\n",
    "\n",
    "X_test, y_test = get_X_y_seq(test,\n",
    "                                number_of_sequences=1_000,\n",
    "                                input_length=48,\n",
    "                                output_length=24,\n",
    "                                gap_hours=12)\n",
    "\n",
    "\n",
    "metrics_dict = evaluate_model(model=model, X=X_test, y=y_test)\n",
    "mae = metrics_dict[\"mae\"]\n"
   ]
  },
  {
   "cell_type": "code",
   "execution_count": null,
   "metadata": {},
   "outputs": [],
   "source": [
    "y_test.shape"
   ]
  },
  {
   "cell_type": "code",
   "execution_count": 2,
   "metadata": {},
   "outputs": [
    {
     "name": "stdout",
     "output_type": "stream",
     "text": [
      "\u001b[34m\n",
      "Load data from local CSV...\u001b[0m\n",
      "✅ Data loaded, with shape (376944, 3)\n"
     ]
    }
   ],
   "source": [
    "data_processed_cache_path = Path(LOCAL_DATA_PATH).joinpath(\"processed\", f\"processed_pv.csv\")\n",
    "query = f\"\"\"\n",
    "    SELECT *\n",
    "    FROM {GCP_PROJECT}.{BQ_DATASET}.processed_pv\n",
    "    ORDER BY utc_time\n",
    "\"\"\"\n",
    "\n",
    "data_processed = get_data_with_cache(\n",
    "    gcp_project=GCP_PROJECT,\n",
    "    query=query,\n",
    "    cache_path=data_processed_cache_path,\n",
    "    data_has_header=True\n",
    ")\n",
    "data_processed.utc_time = pd.to_datetime(data_processed.utc_time,utc=True)"
   ]
  },
  {
   "cell_type": "code",
   "execution_count": 3,
   "metadata": {},
   "outputs": [
    {
     "data": {
      "text/plain": [
       "(376944, 3)"
      ]
     },
     "execution_count": 3,
     "metadata": {},
     "output_type": "execute_result"
    }
   ],
   "source": [
    "data_processed.shape"
   ]
  },
  {
   "cell_type": "code",
   "execution_count": 6,
   "metadata": {},
   "outputs": [],
   "source": [
    "def mean_historical_power(X: pd.DataFrame, input_date: str):\n",
    "        \"\"\"\n",
    "        takes a date as a string input\n",
    "        returns the mean power produced on that day.\n",
    "        Mean over the 40 years of training\n",
    "        should remove 24 data points\n",
    "        \"\"\"\n",
    "        input_date_dt = datetime.datetime.strptime(input_date, '%Y-%m-%d') + datetime.timedelta(days=1)\n",
    "        #filter by month\n",
    "        df_month = X[X.utc_time.dt.month == input_date_dt.month]\n",
    "        #filter by day\n",
    "        df_day = df_month[df_month.utc_time.dt.day == input_date_dt.day].reset_index()\n",
    "        array = df_day['electricity'].groupby(df_day.utc_time.dt.hour).mean().to_numpy()\n",
    "        tensor = tf.convert_to_tensor(array)\n",
    "        tensor = tf.expand_dims(tensor, axis=-1)\n",
    "        tensor = tf.expand_dims(tensor, axis=-1)\n",
    "        tensor = tf.expand_dims(tensor, axis=0)\n",
    "        return array\n",
    "\n",
    "array = mean_historical_power(data_processed, '2021-06-28')"
   ]
  },
  {
   "cell_type": "code",
   "execution_count": 8,
   "metadata": {},
   "outputs": [
    {
     "data": {
      "text/plain": [
       "0     0.000000\n",
       "1     0.000000\n",
       "2     0.000000\n",
       "3     0.012442\n",
       "4     0.048395\n",
       "5     0.110093\n",
       "6     0.238907\n",
       "7     0.375279\n",
       "8     0.479395\n",
       "9     0.528279\n",
       "10    0.550535\n",
       "11    0.540209\n",
       "12    0.496605\n",
       "13    0.425000\n",
       "14    0.328814\n",
       "15    0.225047\n",
       "16    0.124279\n",
       "17    0.053977\n",
       "18    0.017698\n",
       "19    0.000000\n",
       "20    0.000000\n",
       "21    0.000000\n",
       "22    0.000000\n",
       "23    0.000000\n",
       "dtype: float64"
      ]
     },
     "execution_count": 8,
     "metadata": {},
     "output_type": "execute_result"
    }
   ],
   "source": [
    "pd.Series(array)"
   ]
  },
  {
   "cell_type": "code",
   "execution_count": null,
   "metadata": {},
   "outputs": [],
   "source": [
    "def get_stats_table(\n",
    "  years_df: pd.DataFrame,\n",
    "  capacity= False,\n",
    "  min_date = '2020-01-01 00:00:00',\n",
    "  max_date = '2022-12-29 23:00:00') -> pd.DataFrame:\n",
    "  \"\"\"\n",
    "  Creates a table with statistics for electricity and optional capacity factor\n",
    "  for every hour of the year (8784).\n",
    "  Input:\n",
    "    - Cleaned df that contains at least electricity\n",
    "    as column. The df should span several years, because every\n",
    "    year is one sample for the statictics.\n",
    "    - Optional flag for capacity factor\n",
    "  Output:\n",
    "    - df with 8784 hours of the years (including leap years) as rows. The df has\n",
    "    multilevel index because statistics are returned for electricity and\n",
    "    capacity factor.\n",
    "  \"\"\"\n",
    "  years_df =  years_df[years_df['utc_time'] < min_date]\n",
    "  print(years_df.shape)\n",
    "  years_df['hour_of_year'] = years_df.utc_time.\\\n",
    "                           apply(lambda x: x.strftime(\"%m%d%H\"))\n",
    "  if capacity:\n",
    "    stats_df = years_df[['hour_of_year', 'cap_fac']]\\\n",
    "                    .groupby(['hour_of_year']).agg(['mean','median','std',\n",
    "                                                    'skew','min','max','count'])\n",
    "  else:\n",
    "    stats_df = years_df[['hour_of_year', 'electricity']]\\\n",
    "                    .groupby(['hour_of_year']).agg(['mean','median','std',\n",
    "                                                    'skew','min','max','count'])\n",
    "  return stats_df"
   ]
  },
  {
   "cell_type": "code",
   "execution_count": null,
   "metadata": {},
   "outputs": [],
   "source": []
  },
  {
   "cell_type": "code",
   "execution_count": null,
   "metadata": {},
   "outputs": [],
   "source": [
    "get_stats_table(data_processed)"
   ]
  },
  {
   "cell_type": "code",
   "execution_count": null,
   "metadata": {},
   "outputs": [],
   "source": []
  }
 ],
 "metadata": {
  "kernelspec": {
   "display_name": "power",
   "language": "python",
   "name": "python3"
  },
  "language_info": {
   "codemirror_mode": {
    "name": "ipython",
    "version": 3
   },
   "file_extension": ".py",
   "mimetype": "text/x-python",
   "name": "python",
   "nbconvert_exporter": "python",
   "pygments_lexer": "ipython3",
   "version": "3.10.6"
  }
 },
 "nbformat": 4,
 "nbformat_minor": 2
}
